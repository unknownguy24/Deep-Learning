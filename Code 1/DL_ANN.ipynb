{
 "cells": [
  {
   "cell_type": "code",
   "execution_count": 1,
   "id": "f836502f",
   "metadata": {},
   "outputs": [],
   "source": [
    "import numpy as np\n",
    "import matplotlib.pyplot as plt\n",
    "import pandas as pd"
   ]
  },
  {
   "cell_type": "code",
   "execution_count": 2,
   "id": "fe8350c9",
   "metadata": {},
   "outputs": [],
   "source": [
    "dataset = pd.read_csv('Churn_Modelling.csv')\n",
    "X = dataset.iloc[:, 3:13]\n",
    "y = dataset.iloc[:, 13]"
   ]
  },
  {
   "cell_type": "code",
   "execution_count": 3,
   "id": "c43ae105",
   "metadata": {},
   "outputs": [
    {
     "data": {
      "text/html": [
       "<div>\n",
       "<style scoped>\n",
       "    .dataframe tbody tr th:only-of-type {\n",
       "        vertical-align: middle;\n",
       "    }\n",
       "\n",
       "    .dataframe tbody tr th {\n",
       "        vertical-align: top;\n",
       "    }\n",
       "\n",
       "    .dataframe thead th {\n",
       "        text-align: right;\n",
       "    }\n",
       "</style>\n",
       "<table border=\"1\" class=\"dataframe\">\n",
       "  <thead>\n",
       "    <tr style=\"text-align: right;\">\n",
       "      <th></th>\n",
       "      <th>CreditScore</th>\n",
       "      <th>Geography</th>\n",
       "      <th>Gender</th>\n",
       "      <th>Age</th>\n",
       "      <th>Tenure</th>\n",
       "      <th>Balance</th>\n",
       "      <th>NumOfProducts</th>\n",
       "      <th>HasCrCard</th>\n",
       "      <th>IsActiveMember</th>\n",
       "      <th>EstimatedSalary</th>\n",
       "    </tr>\n",
       "  </thead>\n",
       "  <tbody>\n",
       "    <tr>\n",
       "      <th>0</th>\n",
       "      <td>619</td>\n",
       "      <td>France</td>\n",
       "      <td>Female</td>\n",
       "      <td>42</td>\n",
       "      <td>2</td>\n",
       "      <td>0.00</td>\n",
       "      <td>1</td>\n",
       "      <td>1</td>\n",
       "      <td>1</td>\n",
       "      <td>101348.88</td>\n",
       "    </tr>\n",
       "    <tr>\n",
       "      <th>1</th>\n",
       "      <td>608</td>\n",
       "      <td>Spain</td>\n",
       "      <td>Female</td>\n",
       "      <td>41</td>\n",
       "      <td>1</td>\n",
       "      <td>83807.86</td>\n",
       "      <td>1</td>\n",
       "      <td>0</td>\n",
       "      <td>1</td>\n",
       "      <td>112542.58</td>\n",
       "    </tr>\n",
       "    <tr>\n",
       "      <th>2</th>\n",
       "      <td>502</td>\n",
       "      <td>France</td>\n",
       "      <td>Female</td>\n",
       "      <td>42</td>\n",
       "      <td>8</td>\n",
       "      <td>159660.80</td>\n",
       "      <td>3</td>\n",
       "      <td>1</td>\n",
       "      <td>0</td>\n",
       "      <td>113931.57</td>\n",
       "    </tr>\n",
       "    <tr>\n",
       "      <th>3</th>\n",
       "      <td>699</td>\n",
       "      <td>France</td>\n",
       "      <td>Female</td>\n",
       "      <td>39</td>\n",
       "      <td>1</td>\n",
       "      <td>0.00</td>\n",
       "      <td>2</td>\n",
       "      <td>0</td>\n",
       "      <td>0</td>\n",
       "      <td>93826.63</td>\n",
       "    </tr>\n",
       "    <tr>\n",
       "      <th>4</th>\n",
       "      <td>850</td>\n",
       "      <td>Spain</td>\n",
       "      <td>Female</td>\n",
       "      <td>43</td>\n",
       "      <td>2</td>\n",
       "      <td>125510.82</td>\n",
       "      <td>1</td>\n",
       "      <td>1</td>\n",
       "      <td>1</td>\n",
       "      <td>79084.10</td>\n",
       "    </tr>\n",
       "  </tbody>\n",
       "</table>\n",
       "</div>"
      ],
      "text/plain": [
       "   CreditScore Geography  Gender  Age  Tenure    Balance  NumOfProducts  \\\n",
       "0          619    France  Female   42       2       0.00              1   \n",
       "1          608     Spain  Female   41       1   83807.86              1   \n",
       "2          502    France  Female   42       8  159660.80              3   \n",
       "3          699    France  Female   39       1       0.00              2   \n",
       "4          850     Spain  Female   43       2  125510.82              1   \n",
       "\n",
       "   HasCrCard  IsActiveMember  EstimatedSalary  \n",
       "0          1               1        101348.88  \n",
       "1          0               1        112542.58  \n",
       "2          1               0        113931.57  \n",
       "3          0               0         93826.63  \n",
       "4          1               1         79084.10  "
      ]
     },
     "execution_count": 3,
     "metadata": {},
     "output_type": "execute_result"
    }
   ],
   "source": [
    "X.head()"
   ]
  },
  {
   "cell_type": "code",
   "execution_count": 4,
   "id": "d936bbba",
   "metadata": {},
   "outputs": [
    {
     "data": {
      "text/plain": [
       "0    1\n",
       "1    0\n",
       "2    1\n",
       "3    0\n",
       "4    0\n",
       "Name: Exited, dtype: int64"
      ]
     },
     "execution_count": 4,
     "metadata": {},
     "output_type": "execute_result"
    }
   ],
   "source": [
    "y.head()"
   ]
  },
  {
   "cell_type": "code",
   "execution_count": 5,
   "id": "40de658c",
   "metadata": {},
   "outputs": [],
   "source": [
    "#Create dummy variables\n",
    "geography=pd.get_dummies(X[\"Geography\"],drop_first=True)\n",
    "gender=pd.get_dummies(X['Gender'],drop_first=True)"
   ]
  },
  {
   "cell_type": "code",
   "execution_count": 6,
   "id": "ad3bb07e",
   "metadata": {},
   "outputs": [],
   "source": [
    "## Concatenate the Data Frames\n",
    "\n",
    "X=pd.concat([X,geography,gender],axis=1)\n",
    "\n",
    "## Drop Unnecessary columns\n",
    "X=X.drop(['Geography','Gender'],axis=1)"
   ]
  },
  {
   "cell_type": "code",
   "execution_count": 7,
   "id": "4ae94c70",
   "metadata": {},
   "outputs": [
    {
     "data": {
      "text/html": [
       "<div>\n",
       "<style scoped>\n",
       "    .dataframe tbody tr th:only-of-type {\n",
       "        vertical-align: middle;\n",
       "    }\n",
       "\n",
       "    .dataframe tbody tr th {\n",
       "        vertical-align: top;\n",
       "    }\n",
       "\n",
       "    .dataframe thead th {\n",
       "        text-align: right;\n",
       "    }\n",
       "</style>\n",
       "<table border=\"1\" class=\"dataframe\">\n",
       "  <thead>\n",
       "    <tr style=\"text-align: right;\">\n",
       "      <th></th>\n",
       "      <th>CreditScore</th>\n",
       "      <th>Age</th>\n",
       "      <th>Tenure</th>\n",
       "      <th>Balance</th>\n",
       "      <th>NumOfProducts</th>\n",
       "      <th>HasCrCard</th>\n",
       "      <th>IsActiveMember</th>\n",
       "      <th>EstimatedSalary</th>\n",
       "      <th>Germany</th>\n",
       "      <th>Spain</th>\n",
       "      <th>Male</th>\n",
       "    </tr>\n",
       "  </thead>\n",
       "  <tbody>\n",
       "    <tr>\n",
       "      <th>0</th>\n",
       "      <td>619</td>\n",
       "      <td>42</td>\n",
       "      <td>2</td>\n",
       "      <td>0.00</td>\n",
       "      <td>1</td>\n",
       "      <td>1</td>\n",
       "      <td>1</td>\n",
       "      <td>101348.88</td>\n",
       "      <td>0</td>\n",
       "      <td>0</td>\n",
       "      <td>0</td>\n",
       "    </tr>\n",
       "    <tr>\n",
       "      <th>1</th>\n",
       "      <td>608</td>\n",
       "      <td>41</td>\n",
       "      <td>1</td>\n",
       "      <td>83807.86</td>\n",
       "      <td>1</td>\n",
       "      <td>0</td>\n",
       "      <td>1</td>\n",
       "      <td>112542.58</td>\n",
       "      <td>0</td>\n",
       "      <td>1</td>\n",
       "      <td>0</td>\n",
       "    </tr>\n",
       "    <tr>\n",
       "      <th>2</th>\n",
       "      <td>502</td>\n",
       "      <td>42</td>\n",
       "      <td>8</td>\n",
       "      <td>159660.80</td>\n",
       "      <td>3</td>\n",
       "      <td>1</td>\n",
       "      <td>0</td>\n",
       "      <td>113931.57</td>\n",
       "      <td>0</td>\n",
       "      <td>0</td>\n",
       "      <td>0</td>\n",
       "    </tr>\n",
       "    <tr>\n",
       "      <th>3</th>\n",
       "      <td>699</td>\n",
       "      <td>39</td>\n",
       "      <td>1</td>\n",
       "      <td>0.00</td>\n",
       "      <td>2</td>\n",
       "      <td>0</td>\n",
       "      <td>0</td>\n",
       "      <td>93826.63</td>\n",
       "      <td>0</td>\n",
       "      <td>0</td>\n",
       "      <td>0</td>\n",
       "    </tr>\n",
       "    <tr>\n",
       "      <th>4</th>\n",
       "      <td>850</td>\n",
       "      <td>43</td>\n",
       "      <td>2</td>\n",
       "      <td>125510.82</td>\n",
       "      <td>1</td>\n",
       "      <td>1</td>\n",
       "      <td>1</td>\n",
       "      <td>79084.10</td>\n",
       "      <td>0</td>\n",
       "      <td>1</td>\n",
       "      <td>0</td>\n",
       "    </tr>\n",
       "  </tbody>\n",
       "</table>\n",
       "</div>"
      ],
      "text/plain": [
       "   CreditScore  Age  Tenure    Balance  NumOfProducts  HasCrCard  \\\n",
       "0          619   42       2       0.00              1          1   \n",
       "1          608   41       1   83807.86              1          0   \n",
       "2          502   42       8  159660.80              3          1   \n",
       "3          699   39       1       0.00              2          0   \n",
       "4          850   43       2  125510.82              1          1   \n",
       "\n",
       "   IsActiveMember  EstimatedSalary  Germany  Spain  Male  \n",
       "0               1        101348.88        0      0     0  \n",
       "1               1        112542.58        0      1     0  \n",
       "2               0        113931.57        0      0     0  \n",
       "3               0         93826.63        0      0     0  \n",
       "4               1         79084.10        0      1     0  "
      ]
     },
     "execution_count": 7,
     "metadata": {},
     "output_type": "execute_result"
    }
   ],
   "source": [
    "X.head()"
   ]
  },
  {
   "cell_type": "code",
   "execution_count": 8,
   "id": "b03cd3c6",
   "metadata": {},
   "outputs": [],
   "source": [
    "from sklearn.model_selection import train_test_split\n",
    "X_train, X_test, y_train, y_test = train_test_split(X, y, test_size = 0.2, random_state = 0)\n"
   ]
  },
  {
   "cell_type": "code",
   "execution_count": 9,
   "id": "b96eddab",
   "metadata": {},
   "outputs": [],
   "source": [
    "# Feature Scaling\n",
    "from sklearn.preprocessing import StandardScaler\n",
    "sc = StandardScaler()\n",
    "X_train = sc.fit_transform(X_train)\n",
    "X_test = sc.transform(X_test)"
   ]
  },
  {
   "cell_type": "code",
   "execution_count": 10,
   "id": "c81b9e71",
   "metadata": {},
   "outputs": [
    {
     "data": {
      "text/plain": [
       "array([[ 0.16958176, -0.46460796,  0.00666099, ..., -0.5698444 ,\n",
       "         1.74309049, -1.09168714],\n",
       "       [-2.30455945,  0.30102557, -1.37744033, ...,  1.75486502,\n",
       "        -0.57369368,  0.91601335],\n",
       "       [-1.19119591, -0.94312892, -1.031415  , ..., -0.5698444 ,\n",
       "        -0.57369368, -1.09168714],\n",
       "       ...,\n",
       "       [ 0.9015152 , -0.36890377,  0.00666099, ..., -0.5698444 ,\n",
       "        -0.57369368,  0.91601335],\n",
       "       [-0.62420521, -0.08179119,  1.39076231, ..., -0.5698444 ,\n",
       "         1.74309049, -1.09168714],\n",
       "       [-0.28401079,  0.87525072, -1.37744033, ...,  1.75486502,\n",
       "        -0.57369368, -1.09168714]])"
      ]
     },
     "execution_count": 10,
     "metadata": {},
     "output_type": "execute_result"
    }
   ],
   "source": [
    "X_train"
   ]
  },
  {
   "cell_type": "code",
   "execution_count": 14,
   "id": "ecc257e9",
   "metadata": {},
   "outputs": [],
   "source": [
    "# Part 2 - Now let's make the ANN!\n",
    "\n",
    "# Importing the Keras libraries and packages\n",
    "import keras\n",
    "from keras.models import Sequential\n",
    "from keras.layers import Dense\n",
    "from keras.layers import LeakyReLU,PReLU,ELU\n",
    "from keras.layers import Dropout"
   ]
  },
  {
   "cell_type": "code",
   "execution_count": 15,
   "id": "ef52a7fc",
   "metadata": {},
   "outputs": [],
   "source": [
    "# Initialising the ANN\n",
    "classifier = Sequential()"
   ]
  },
  {
   "cell_type": "code",
   "execution_count": 17,
   "id": "aa8b9a2b",
   "metadata": {},
   "outputs": [],
   "source": [
    "# Adding the input layer and the first hidden layer\n",
    "classifier.add(Dense(units = 6, kernel_initializer = 'he_uniform',activation='relu',input_dim = 11))  "
   ]
  },
  {
   "cell_type": "code",
   "execution_count": 18,
   "id": "c6d7faec",
   "metadata": {},
   "outputs": [],
   "source": [
    "# Adding the second hidden layer\n",
    "classifier.add(Dense(units = 6, kernel_initializer = 'he_uniform',activation='relu'))"
   ]
  },
  {
   "cell_type": "code",
   "execution_count": 19,
   "id": "097c7c7f",
   "metadata": {},
   "outputs": [],
   "source": [
    "# Adding the output layer\n",
    "classifier.add(Dense(units = 1, kernel_initializer = 'glorot_uniform', activation = 'sigmoid'))"
   ]
  },
  {
   "cell_type": "code",
   "execution_count": 21,
   "id": "349707c3",
   "metadata": {},
   "outputs": [
    {
     "name": "stdout",
     "output_type": "stream",
     "text": [
      "Model: \"sequential\"\n",
      "_________________________________________________________________\n",
      " Layer (type)                Output Shape              Param #   \n",
      "=================================================================\n",
      " dense (Dense)               (None, 6)                 72        \n",
      "                                                                 \n",
      " dense_1 (Dense)             (None, 6)                 42        \n",
      "                                                                 \n",
      " dense_2 (Dense)             (None, 1)                 7         \n",
      "                                                                 \n",
      "=================================================================\n",
      "Total params: 121\n",
      "Trainable params: 121\n",
      "Non-trainable params: 0\n",
      "_________________________________________________________________\n"
     ]
    }
   ],
   "source": [
    "classifier.summary()"
   ]
  },
  {
   "cell_type": "code",
   "execution_count": 22,
   "id": "52e8aa08",
   "metadata": {},
   "outputs": [],
   "source": [
    "#Total params tells us how many wts and bias params are there in the NN structure"
   ]
  },
  {
   "cell_type": "code",
   "execution_count": 23,
   "id": "5228245e",
   "metadata": {},
   "outputs": [],
   "source": [
    "# Compiling the ANN\n",
    "classifier.compile(optimizer = 'adam', loss = 'binary_crossentropy', metrics = ['accuracy'])"
   ]
  },
  {
   "cell_type": "code",
   "execution_count": 25,
   "id": "391b11c8",
   "metadata": {},
   "outputs": [
    {
     "name": "stdout",
     "output_type": "stream",
     "text": [
      "Epoch 1/100\n",
      "536/536 [==============================] - 3s 1ms/step - loss: 0.5250 - accuracy: 0.7897 - val_loss: 0.4808 - val_accuracy: 0.7955\n",
      "Epoch 2/100\n",
      "536/536 [==============================] - 1s 948us/step - loss: 0.4679 - accuracy: 0.7964 - val_loss: 0.4556 - val_accuracy: 0.7944\n",
      "Epoch 3/100\n",
      "536/536 [==============================] - 1s 958us/step - loss: 0.4442 - accuracy: 0.7987 - val_loss: 0.4391 - val_accuracy: 0.7986\n",
      "Epoch 4/100\n",
      "536/536 [==============================] - 1s 960us/step - loss: 0.4323 - accuracy: 0.8102 - val_loss: 0.4300 - val_accuracy: 0.8095\n",
      "Epoch 5/100\n",
      "536/536 [==============================] - 1s 952us/step - loss: 0.4235 - accuracy: 0.8192 - val_loss: 0.4252 - val_accuracy: 0.8137\n",
      "Epoch 6/100\n",
      "536/536 [==============================] - 1s 971us/step - loss: 0.4164 - accuracy: 0.8244 - val_loss: 0.4192 - val_accuracy: 0.8156\n",
      "Epoch 7/100\n",
      "536/536 [==============================] - 1s 963us/step - loss: 0.4087 - accuracy: 0.8293 - val_loss: 0.4126 - val_accuracy: 0.8201\n",
      "Epoch 8/100\n",
      "536/536 [==============================] - 1s 951us/step - loss: 0.4004 - accuracy: 0.8324 - val_loss: 0.4055 - val_accuracy: 0.8236\n",
      "Epoch 9/100\n",
      "536/536 [==============================] - 1s 957us/step - loss: 0.3909 - accuracy: 0.8384 - val_loss: 0.3968 - val_accuracy: 0.8270\n",
      "Epoch 10/100\n",
      "536/536 [==============================] - 1s 1ms/step - loss: 0.3808 - accuracy: 0.8418 - val_loss: 0.3891 - val_accuracy: 0.8292\n",
      "Epoch 11/100\n",
      "536/536 [==============================] - 1s 1ms/step - loss: 0.3726 - accuracy: 0.8489 - val_loss: 0.3815 - val_accuracy: 0.8383\n",
      "Epoch 12/100\n",
      "536/536 [==============================] - 1s 1ms/step - loss: 0.3650 - accuracy: 0.8537 - val_loss: 0.3766 - val_accuracy: 0.8421\n",
      "Epoch 13/100\n",
      "536/536 [==============================] - 1s 1ms/step - loss: 0.3579 - accuracy: 0.8552 - val_loss: 0.3726 - val_accuracy: 0.8455\n",
      "Epoch 14/100\n",
      "536/536 [==============================] - 1s 959us/step - loss: 0.3525 - accuracy: 0.8584 - val_loss: 0.3701 - val_accuracy: 0.8474\n",
      "Epoch 15/100\n",
      "536/536 [==============================] - 1s 964us/step - loss: 0.3488 - accuracy: 0.8595 - val_loss: 0.3674 - val_accuracy: 0.8504\n",
      "Epoch 16/100\n",
      "536/536 [==============================] - 1s 962us/step - loss: 0.3459 - accuracy: 0.8597 - val_loss: 0.3660 - val_accuracy: 0.8512\n",
      "Epoch 17/100\n",
      "536/536 [==============================] - 1s 958us/step - loss: 0.3436 - accuracy: 0.8615 - val_loss: 0.3657 - val_accuracy: 0.8516\n",
      "Epoch 18/100\n",
      "536/536 [==============================] - 1s 995us/step - loss: 0.3424 - accuracy: 0.8610 - val_loss: 0.3652 - val_accuracy: 0.8523\n",
      "Epoch 19/100\n",
      "536/536 [==============================] - 1s 974us/step - loss: 0.3404 - accuracy: 0.8627 - val_loss: 0.3639 - val_accuracy: 0.8557\n",
      "Epoch 20/100\n",
      "536/536 [==============================] - 1s 951us/step - loss: 0.3397 - accuracy: 0.8614 - val_loss: 0.3645 - val_accuracy: 0.8542\n",
      "Epoch 21/100\n",
      "536/536 [==============================] - 1s 950us/step - loss: 0.3389 - accuracy: 0.8595 - val_loss: 0.3641 - val_accuracy: 0.8550\n",
      "Epoch 22/100\n",
      "536/536 [==============================] - 1s 962us/step - loss: 0.3380 - accuracy: 0.8604 - val_loss: 0.3646 - val_accuracy: 0.8550\n",
      "Epoch 23/100\n",
      "536/536 [==============================] - 1s 950us/step - loss: 0.3374 - accuracy: 0.8610 - val_loss: 0.3658 - val_accuracy: 0.8523\n",
      "Epoch 24/100\n",
      "536/536 [==============================] - 1s 953us/step - loss: 0.3368 - accuracy: 0.8615 - val_loss: 0.3638 - val_accuracy: 0.8504\n",
      "Epoch 25/100\n",
      "536/536 [==============================] - 1s 945us/step - loss: 0.3355 - accuracy: 0.8604 - val_loss: 0.3658 - val_accuracy: 0.8531\n",
      "Epoch 26/100\n",
      "536/536 [==============================] - 1s 948us/step - loss: 0.3362 - accuracy: 0.8600 - val_loss: 0.3643 - val_accuracy: 0.8519\n",
      "Epoch 27/100\n",
      "536/536 [==============================] - 1s 954us/step - loss: 0.3358 - accuracy: 0.8610 - val_loss: 0.3657 - val_accuracy: 0.8508\n",
      "Epoch 28/100\n",
      "536/536 [==============================] - 1s 959us/step - loss: 0.3355 - accuracy: 0.8600 - val_loss: 0.3640 - val_accuracy: 0.8523\n",
      "Epoch 29/100\n",
      "536/536 [==============================] - 1s 948us/step - loss: 0.3351 - accuracy: 0.8600 - val_loss: 0.3645 - val_accuracy: 0.8501\n",
      "Epoch 30/100\n",
      "536/536 [==============================] - 1s 960us/step - loss: 0.3347 - accuracy: 0.8612 - val_loss: 0.3646 - val_accuracy: 0.8504\n",
      "Epoch 31/100\n",
      "536/536 [==============================] - 1s 946us/step - loss: 0.3345 - accuracy: 0.8604 - val_loss: 0.3636 - val_accuracy: 0.8485\n",
      "Epoch 32/100\n",
      "536/536 [==============================] - 1s 952us/step - loss: 0.3340 - accuracy: 0.8617 - val_loss: 0.3648 - val_accuracy: 0.8489\n",
      "Epoch 33/100\n",
      "536/536 [==============================] - 1s 949us/step - loss: 0.3341 - accuracy: 0.8619 - val_loss: 0.3646 - val_accuracy: 0.8519\n",
      "Epoch 34/100\n",
      "536/536 [==============================] - 1s 956us/step - loss: 0.3335 - accuracy: 0.8634 - val_loss: 0.3636 - val_accuracy: 0.8497\n",
      "Epoch 35/100\n",
      "536/536 [==============================] - 1s 959us/step - loss: 0.3333 - accuracy: 0.8619 - val_loss: 0.3661 - val_accuracy: 0.8501\n",
      "Epoch 36/100\n",
      "536/536 [==============================] - 1s 956us/step - loss: 0.3332 - accuracy: 0.8643 - val_loss: 0.3645 - val_accuracy: 0.8497\n",
      "Epoch 37/100\n",
      "536/536 [==============================] - 1s 947us/step - loss: 0.3327 - accuracy: 0.8627 - val_loss: 0.3643 - val_accuracy: 0.8501\n",
      "Epoch 38/100\n",
      "536/536 [==============================] - 1s 953us/step - loss: 0.3329 - accuracy: 0.8625 - val_loss: 0.3639 - val_accuracy: 0.8497\n",
      "Epoch 39/100\n",
      "536/536 [==============================] - 1s 984us/step - loss: 0.3328 - accuracy: 0.8642 - val_loss: 0.3648 - val_accuracy: 0.8489\n",
      "Epoch 40/100\n",
      "536/536 [==============================] - 1s 959us/step - loss: 0.3327 - accuracy: 0.8627 - val_loss: 0.3644 - val_accuracy: 0.8482\n",
      "Epoch 41/100\n",
      "536/536 [==============================] - 1s 956us/step - loss: 0.3323 - accuracy: 0.8625 - val_loss: 0.3646 - val_accuracy: 0.8485\n",
      "Epoch 42/100\n",
      "536/536 [==============================] - 1s 951us/step - loss: 0.3318 - accuracy: 0.8636 - val_loss: 0.3653 - val_accuracy: 0.8470\n",
      "Epoch 43/100\n",
      "536/536 [==============================] - 1s 1ms/step - loss: 0.3323 - accuracy: 0.8621 - val_loss: 0.3644 - val_accuracy: 0.8485\n",
      "Epoch 44/100\n",
      "536/536 [==============================] - 1s 961us/step - loss: 0.3319 - accuracy: 0.8632 - val_loss: 0.3653 - val_accuracy: 0.8497\n",
      "Epoch 45/100\n",
      "536/536 [==============================] - 1s 969us/step - loss: 0.3316 - accuracy: 0.8623 - val_loss: 0.3642 - val_accuracy: 0.8497\n",
      "Epoch 46/100\n",
      "536/536 [==============================] - 1s 951us/step - loss: 0.3314 - accuracy: 0.8634 - val_loss: 0.3655 - val_accuracy: 0.8497\n",
      "Epoch 47/100\n",
      "536/536 [==============================] - 1s 965us/step - loss: 0.3314 - accuracy: 0.8640 - val_loss: 0.3651 - val_accuracy: 0.8482\n",
      "Epoch 48/100\n",
      "536/536 [==============================] - 1s 961us/step - loss: 0.3311 - accuracy: 0.8649 - val_loss: 0.3661 - val_accuracy: 0.8523\n",
      "Epoch 49/100\n",
      "536/536 [==============================] - 1s 968us/step - loss: 0.3312 - accuracy: 0.8628 - val_loss: 0.3649 - val_accuracy: 0.8489\n",
      "Epoch 50/100\n",
      "536/536 [==============================] - 1s 962us/step - loss: 0.3307 - accuracy: 0.8634 - val_loss: 0.3653 - val_accuracy: 0.8482\n",
      "Epoch 51/100\n",
      "536/536 [==============================] - 1s 951us/step - loss: 0.3309 - accuracy: 0.8628 - val_loss: 0.3644 - val_accuracy: 0.8485\n",
      "Epoch 52/100\n",
      "536/536 [==============================] - 1s 978us/step - loss: 0.3307 - accuracy: 0.8642 - val_loss: 0.3643 - val_accuracy: 0.8516\n",
      "Epoch 53/100\n",
      "536/536 [==============================] - 1s 1ms/step - loss: 0.3312 - accuracy: 0.8638 - val_loss: 0.3629 - val_accuracy: 0.8512\n",
      "Epoch 54/100\n",
      "536/536 [==============================] - 1s 955us/step - loss: 0.3302 - accuracy: 0.8643 - val_loss: 0.3651 - val_accuracy: 0.8512\n",
      "Epoch 55/100\n",
      "536/536 [==============================] - 1s 960us/step - loss: 0.3306 - accuracy: 0.8658 - val_loss: 0.3633 - val_accuracy: 0.8493\n",
      "Epoch 56/100\n",
      "536/536 [==============================] - 1s 957us/step - loss: 0.3307 - accuracy: 0.8632 - val_loss: 0.3633 - val_accuracy: 0.8478\n",
      "Epoch 57/100\n"
     ]
    },
    {
     "name": "stdout",
     "output_type": "stream",
     "text": [
      "536/536 [==============================] - 1s 976us/step - loss: 0.3308 - accuracy: 0.8634 - val_loss: 0.3633 - val_accuracy: 0.8478\n",
      "Epoch 58/100\n",
      "536/536 [==============================] - 1s 950us/step - loss: 0.3302 - accuracy: 0.8634 - val_loss: 0.3660 - val_accuracy: 0.8482\n",
      "Epoch 59/100\n",
      "536/536 [==============================] - 1s 950us/step - loss: 0.3303 - accuracy: 0.8630 - val_loss: 0.3638 - val_accuracy: 0.8474\n",
      "Epoch 60/100\n",
      "536/536 [==============================] - 1s 947us/step - loss: 0.3303 - accuracy: 0.8636 - val_loss: 0.3647 - val_accuracy: 0.8489\n",
      "Epoch 61/100\n",
      "536/536 [==============================] - 1s 945us/step - loss: 0.3300 - accuracy: 0.8636 - val_loss: 0.3660 - val_accuracy: 0.8482\n",
      "Epoch 62/100\n",
      "536/536 [==============================] - 1s 950us/step - loss: 0.3302 - accuracy: 0.8634 - val_loss: 0.3644 - val_accuracy: 0.8493\n",
      "Epoch 63/100\n",
      "536/536 [==============================] - 1s 950us/step - loss: 0.3300 - accuracy: 0.8628 - val_loss: 0.3646 - val_accuracy: 0.8497\n",
      "Epoch 64/100\n",
      "536/536 [==============================] - 1s 943us/step - loss: 0.3296 - accuracy: 0.8643 - val_loss: 0.3632 - val_accuracy: 0.8482\n",
      "Epoch 65/100\n",
      "536/536 [==============================] - 1s 951us/step - loss: 0.3292 - accuracy: 0.8638 - val_loss: 0.3635 - val_accuracy: 0.8478\n",
      "Epoch 66/100\n",
      "536/536 [==============================] - 1s 938us/step - loss: 0.3296 - accuracy: 0.8660 - val_loss: 0.3655 - val_accuracy: 0.8493\n",
      "Epoch 67/100\n",
      "536/536 [==============================] - 1s 938us/step - loss: 0.3298 - accuracy: 0.8638 - val_loss: 0.3640 - val_accuracy: 0.8504\n",
      "Epoch 68/100\n",
      "536/536 [==============================] - 1s 942us/step - loss: 0.3292 - accuracy: 0.8642 - val_loss: 0.3625 - val_accuracy: 0.8493\n",
      "Epoch 69/100\n",
      "536/536 [==============================] - 1s 944us/step - loss: 0.3291 - accuracy: 0.8632 - val_loss: 0.3642 - val_accuracy: 0.8493\n",
      "Epoch 70/100\n",
      "536/536 [==============================] - 1s 943us/step - loss: 0.3288 - accuracy: 0.8640 - val_loss: 0.3630 - val_accuracy: 0.8497\n",
      "Epoch 71/100\n",
      "536/536 [==============================] - 1s 953us/step - loss: 0.3290 - accuracy: 0.8649 - val_loss: 0.3634 - val_accuracy: 0.8489\n",
      "Epoch 72/100\n",
      "536/536 [==============================] - 1s 964us/step - loss: 0.3283 - accuracy: 0.8628 - val_loss: 0.3614 - val_accuracy: 0.8485\n",
      "Epoch 73/100\n",
      "536/536 [==============================] - 1s 955us/step - loss: 0.3284 - accuracy: 0.8642 - val_loss: 0.3639 - val_accuracy: 0.8485\n",
      "Epoch 74/100\n",
      "536/536 [==============================] - 1s 959us/step - loss: 0.3281 - accuracy: 0.8649 - val_loss: 0.3634 - val_accuracy: 0.8474\n",
      "Epoch 75/100\n",
      "536/536 [==============================] - 1s 952us/step - loss: 0.3281 - accuracy: 0.8640 - val_loss: 0.3640 - val_accuracy: 0.8485\n",
      "Epoch 76/100\n",
      "536/536 [==============================] - 1s 952us/step - loss: 0.3279 - accuracy: 0.8649 - val_loss: 0.3636 - val_accuracy: 0.8501\n",
      "Epoch 77/100\n",
      "536/536 [==============================] - 1s 967us/step - loss: 0.3277 - accuracy: 0.8649 - val_loss: 0.3655 - val_accuracy: 0.8470\n",
      "Epoch 78/100\n",
      "536/536 [==============================] - 1s 953us/step - loss: 0.3273 - accuracy: 0.8636 - val_loss: 0.3639 - val_accuracy: 0.8478\n",
      "Epoch 79/100\n",
      "536/536 [==============================] - 1s 969us/step - loss: 0.3275 - accuracy: 0.8647 - val_loss: 0.3630 - val_accuracy: 0.8508\n",
      "Epoch 80/100\n",
      "536/536 [==============================] - 1s 965us/step - loss: 0.3271 - accuracy: 0.8638 - val_loss: 0.3635 - val_accuracy: 0.8485\n",
      "Epoch 81/100\n",
      "536/536 [==============================] - 1s 964us/step - loss: 0.3278 - accuracy: 0.8643 - val_loss: 0.3633 - val_accuracy: 0.8508\n",
      "Epoch 82/100\n",
      "536/536 [==============================] - 1s 961us/step - loss: 0.3271 - accuracy: 0.8643 - val_loss: 0.3650 - val_accuracy: 0.8482\n",
      "Epoch 83/100\n",
      "536/536 [==============================] - 1s 1ms/step - loss: 0.3274 - accuracy: 0.8632 - val_loss: 0.3642 - val_accuracy: 0.8504\n",
      "Epoch 84/100\n",
      "536/536 [==============================] - 1s 964us/step - loss: 0.3273 - accuracy: 0.8634 - val_loss: 0.3620 - val_accuracy: 0.8482\n",
      "Epoch 85/100\n",
      "536/536 [==============================] - 1s 966us/step - loss: 0.3276 - accuracy: 0.8623 - val_loss: 0.3648 - val_accuracy: 0.8478\n",
      "Epoch 86/100\n",
      "536/536 [==============================] - 1s 959us/step - loss: 0.3271 - accuracy: 0.8647 - val_loss: 0.3636 - val_accuracy: 0.8497\n",
      "Epoch 87/100\n",
      "536/536 [==============================] - 1s 954us/step - loss: 0.3269 - accuracy: 0.8638 - val_loss: 0.3624 - val_accuracy: 0.8519\n",
      "Epoch 88/100\n",
      "536/536 [==============================] - 1s 960us/step - loss: 0.3271 - accuracy: 0.8647 - val_loss: 0.3632 - val_accuracy: 0.8466\n",
      "Epoch 89/100\n",
      "536/536 [==============================] - 1s 964us/step - loss: 0.3269 - accuracy: 0.8666 - val_loss: 0.3628 - val_accuracy: 0.8497\n",
      "Epoch 90/100\n",
      "536/536 [==============================] - 1s 962us/step - loss: 0.3270 - accuracy: 0.8647 - val_loss: 0.3633 - val_accuracy: 0.8485\n",
      "Epoch 91/100\n",
      "536/536 [==============================] - 1s 953us/step - loss: 0.3271 - accuracy: 0.8642 - val_loss: 0.3612 - val_accuracy: 0.8497\n",
      "Epoch 92/100\n",
      "536/536 [==============================] - 1s 949us/step - loss: 0.3266 - accuracy: 0.8647 - val_loss: 0.3622 - val_accuracy: 0.8516\n",
      "Epoch 93/100\n",
      "536/536 [==============================] - 1s 947us/step - loss: 0.3266 - accuracy: 0.8666 - val_loss: 0.3640 - val_accuracy: 0.8470\n",
      "Epoch 94/100\n",
      "536/536 [==============================] - 1s 953us/step - loss: 0.3268 - accuracy: 0.8649 - val_loss: 0.3627 - val_accuracy: 0.8482\n",
      "Epoch 95/100\n",
      "536/536 [==============================] - 1s 953us/step - loss: 0.3266 - accuracy: 0.8630 - val_loss: 0.3638 - val_accuracy: 0.8470\n",
      "Epoch 96/100\n",
      "536/536 [==============================] - 1s 948us/step - loss: 0.3266 - accuracy: 0.8638 - val_loss: 0.3618 - val_accuracy: 0.8474\n",
      "Epoch 97/100\n",
      "536/536 [==============================] - 1s 947us/step - loss: 0.3267 - accuracy: 0.8660 - val_loss: 0.3630 - val_accuracy: 0.8478\n",
      "Epoch 98/100\n",
      "536/536 [==============================] - 1s 963us/step - loss: 0.3267 - accuracy: 0.8666 - val_loss: 0.3622 - val_accuracy: 0.8478\n",
      "Epoch 99/100\n",
      "536/536 [==============================] - 1s 949us/step - loss: 0.3257 - accuracy: 0.8653 - val_loss: 0.3619 - val_accuracy: 0.8489\n",
      "Epoch 100/100\n",
      "536/536 [==============================] - 1s 952us/step - loss: 0.3262 - accuracy: 0.8645 - val_loss: 0.3622 - val_accuracy: 0.8497\n"
     ]
    }
   ],
   "source": [
    "# Fitting the ANN to the Training set\n",
    "model_history=classifier.fit(X_train, y_train,validation_split=0.33, batch_size = 10, epochs = 100)"
   ]
  },
  {
   "cell_type": "code",
   "execution_count": 26,
   "id": "a326c96c",
   "metadata": {},
   "outputs": [
    {
     "name": "stdout",
     "output_type": "stream",
     "text": [
      "63/63 [==============================] - 2s 609us/step\n"
     ]
    }
   ],
   "source": [
    "# Predicting the Test set results\n",
    "y_pred = classifier.predict(X_test)\n",
    "y_pred = (y_pred > 0.5)"
   ]
  },
  {
   "cell_type": "code",
   "execution_count": 27,
   "id": "68ed40de",
   "metadata": {},
   "outputs": [],
   "source": [
    "# Making the Confusion Matrix\n",
    "from sklearn.metrics import confusion_matrix\n",
    "cm = confusion_matrix(y_test, y_pred)"
   ]
  },
  {
   "cell_type": "code",
   "execution_count": 28,
   "id": "bbfc9030",
   "metadata": {},
   "outputs": [
    {
     "data": {
      "text/plain": [
       "array([[1513,   82],\n",
       "       [ 206,  199]], dtype=int64)"
      ]
     },
     "execution_count": 28,
     "metadata": {},
     "output_type": "execute_result"
    }
   ],
   "source": [
    "cm"
   ]
  },
  {
   "cell_type": "code",
   "execution_count": 29,
   "id": "045b6de9",
   "metadata": {},
   "outputs": [],
   "source": [
    "# Calculate the Accuracy\n",
    "from sklearn.metrics import accuracy_score\n",
    "score=accuracy_score(y_pred,y_test)"
   ]
  },
  {
   "cell_type": "code",
   "execution_count": 30,
   "id": "4c053cac",
   "metadata": {},
   "outputs": [
    {
     "data": {
      "text/plain": [
       "0.856"
      ]
     },
     "execution_count": 30,
     "metadata": {},
     "output_type": "execute_result"
    }
   ],
   "source": [
    "score"
   ]
  },
  {
   "cell_type": "code",
   "execution_count": 31,
   "id": "0612b43e",
   "metadata": {},
   "outputs": [
    {
     "name": "stdout",
     "output_type": "stream",
     "text": [
      "dict_keys(['loss', 'accuracy', 'val_loss', 'val_accuracy'])\n"
     ]
    }
   ],
   "source": [
    "# list all data in history\n",
    "\n",
    "print(model_history.history.keys())"
   ]
  },
  {
   "cell_type": "code",
   "execution_count": 33,
   "id": "4ebb5e7c",
   "metadata": {},
   "outputs": [
    {
     "data": {
      "image/png": "[encoded data removed]",
      "text/plain": [
       "<Figure size 432x288 with 1 Axes>"
      ]
     },
     "metadata": {
      "needs_background": "light"
     },
     "output_type": "display_data"
    }
   ],
   "source": [
    "# summarize history for accuracy\n",
    "plt.plot(model_history.history['accuracy'])\n",
    "plt.plot(model_history.history['val_accuracy'])\n",
    "plt.title('model accuracy')\n",
    "plt.ylabel('accuracy')\n",
    "plt.xlabel('epoch')\n",
    "plt.legend(['train', 'test'], loc='upper left')\n",
    "plt.show()"
   ]
  },
  {
   "cell_type": "code",
   "execution_count": 34,
   "id": "6cfa0911",
   "metadata": {},
   "outputs": [
    {
     "data": {
      "image/png": "[encoded data removed]",
      "text/plain": [
       "<Figure size 432x288 with 1 Axes>"
      ]
     },
     "metadata": {
      "needs_background": "light"
     },
     "output_type": "display_data"
    }
   ],
   "source": [
    "# summarize history for loss\n",
    "plt.plot(model_history.history['loss'])\n",
    "plt.plot(model_history.history['val_loss'])\n",
    "plt.title('model loss')\n",
    "plt.ylabel('loss')\n",
    "plt.xlabel('epoch')\n",
    "plt.legend(['train', 'test'], loc='upper left')\n",
    "plt.show()"
   ]
  },
  {
   "cell_type": "code",
   "execution_count": null,
   "id": "4a28fe65",
   "metadata": {},
   "outputs": [],
   "source": []
  }
 ],
 "metadata": {
  "kernelspec": {
   "display_name": "Python 3 (ipykernel)",
   "language": "python",
   "name": "python3"
  },
  "language_info": {
   "codemirror_mode": {
    "name": "ipython",
    "version": 3
   },
   "file_extension": ".py",
   "mimetype": "text/x-python",
   "name": "python",
   "nbconvert_exporter": "python",
   "pygments_lexer": "ipython3",
   "version": "3.9.12"
  }
 },
 "nbformat": 4,
 "nbformat_minor": 5
}
