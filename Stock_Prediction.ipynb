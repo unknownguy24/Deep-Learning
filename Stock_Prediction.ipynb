{
  "nbformat": 4,
  "nbformat_minor": 0,
  "metadata": {
    "colab": {
      "provenance": [],
      "authorship_tag": "ABX9TyNmVfFByCdcnx02vHXmW9+I",
      "include_colab_link": true
    },
    "kernelspec": {
      "name": "python3",
      "display_name": "Python 3"
    },
    "language_info": {
      "name": "python"
    },
    "accelerator": "GPU",
    "gpuClass": "standard"
  },
  "cells": [
    {
      "cell_type": "markdown",
      "metadata": {
        "id": "view-in-github",
        "colab_type": "text"
      },
      "source": [
        "<a href=\"https://colab.research.google.com/github/unknownguy24/Deep-Learning/blob/main/Stock_Prediction.ipynb\" target=\"_parent\"><img src=\"https://colab.research.google.com/assets/colab-badge.svg\" alt=\"Open In Colab\"/></a>"
      ]
    },
    {
      "cell_type": "code",
      "execution_count": null,
      "metadata": {
        "id": "mos6bkCSHEqW"
      },
      "outputs": [],
      "source": [
        "import pandas_datareader as pdr\n",
        "key=\"e69ff83aab45d7956fded3a18728deb77b916560\""
      ]
    },
    {
      "cell_type": "code",
      "source": [
        "df = pdr.get_data_tiingo('TSLA', api_key=key)"
      ],
      "metadata": {
        "colab": {
          "base_uri": "https://localhost:8080/"
        },
        "id": "CQZMjxllI145",
        "outputId": "1e6302ff-3b71-4985-c101-05a4a67fffb3"
      },
      "execution_count": null,
      "outputs": [
        {
          "output_type": "stream",
          "name": "stderr",
          "text": [
            "/usr/local/lib/python3.8/dist-packages/pandas_datareader/tiingo.py:234: FutureWarning: In a future version of pandas all arguments of concat except for the argument 'objs' will be keyword-only\n",
            "  return pd.concat(dfs, self._concat_axis)\n"
          ]
        }
      ]
    },
    {
      "cell_type": "code",
      "source": [
        "df.to_csv('TSLA1.csv')"
      ],
      "metadata": {
        "id": "rX19kr5xJDl6"
      },
      "execution_count": null,
      "outputs": []
    },
    {
      "cell_type": "code",
      "source": [
        "import pandas as pd"
      ],
      "metadata": {
        "id": "dy9eU8EoJHsE"
      },
      "execution_count": null,
      "outputs": []
    },
    {
      "cell_type": "code",
      "source": [
        "df=pd.read_csv('TSLA1.csv')"
      ],
      "metadata": {
        "id": "UPzyT_q7JJhE"
      },
      "execution_count": null,
      "outputs": []
    },
    {
      "cell_type": "code",
      "source": [
        "df.head()"
      ],
      "metadata": {
        "colab": {
          "base_uri": "https://localhost:8080/",
          "height": 206
        },
        "id": "6tZ6hTs3JK14",
        "outputId": "850244ad-a6d6-49dc-e6c0-5d271c93104f"
      },
      "execution_count": null,
      "outputs": [
        {
          "output_type": "execute_result",
          "data": {
            "text/plain": [
              "  symbol                       date   close    high     low    open   volume  \\\n",
              "0   TSLA  2018-01-29 00:00:00+00:00  349.53  350.85  338.28  339.85  4722025   \n",
              "1   TSLA  2018-01-30 00:00:00+00:00  345.82  348.27  342.17  345.14  4696465   \n",
              "2   TSLA  2018-01-31 00:00:00+00:00  354.31  356.19  345.19  347.51  6076998   \n",
              "3   TSLA  2018-02-01 00:00:00+00:00  349.25  359.66  348.63  351.00  4163194   \n",
              "4   TSLA  2018-02-02 00:00:00+00:00  343.75  351.95  340.51  348.44  3674909   \n",
              "\n",
              "    adjClose    adjHigh     adjLow    adjOpen  adjVolume  divCash  splitFactor  \n",
              "0  23.302000  23.390000  22.552000  22.656667   70830375      0.0          1.0  \n",
              "1  23.054667  23.218000  22.811333  23.009333   70446975      0.0          1.0  \n",
              "2  23.620667  23.746000  23.012667  23.167333   91154970      0.0          1.0  \n",
              "3  23.283333  23.977333  23.242000  23.400000   62447910      0.0          1.0  \n",
              "4  22.916667  23.463333  22.700667  23.229333   55123635      0.0          1.0  "
            ],
            "text/html": [
              "\n",
              "  <div id=\"df-6c8a5577-b52f-41b5-916f-7708cdb6cc35\">\n",
              "    <div class=\"colab-df-container\">\n",
              "      <div>\n",
              "<style scoped>\n",
              "    .dataframe tbody tr th:only-of-type {\n",
              "        vertical-align: middle;\n",
              "    }\n",
              "\n",
              "    .dataframe tbody tr th {\n",
              "        vertical-align: top;\n",
              "    }\n",
              "\n",
              "    .dataframe thead th {\n",
              "        text-align: right;\n",
              "    }\n",
              "</style>\n",
              "<table border=\"1\" class=\"dataframe\">\n",
              "  <thead>\n",
              "    <tr style=\"text-align: right;\">\n",
              "      <th></th>\n",
              "      <th>symbol</th>\n",
              "      <th>date</th>\n",
              "      <th>close</th>\n",
              "      <th>high</th>\n",
              "      <th>low</th>\n",
              "      <th>open</th>\n",
              "      <th>volume</th>\n",
              "      <th>adjClose</th>\n",
              "      <th>adjHigh</th>\n",
              "      <th>adjLow</th>\n",
              "      <th>adjOpen</th>\n",
              "      <th>adjVolume</th>\n",
              "      <th>divCash</th>\n",
              "      <th>splitFactor</th>\n",
              "    </tr>\n",
              "  </thead>\n",
              "  <tbody>\n",
              "    <tr>\n",
              "      <th>0</th>\n",
              "      <td>TSLA</td>\n",
              "      <td>2018-01-29 00:00:00+00:00</td>\n",
              "      <td>349.53</td>\n",
              "      <td>350.85</td>\n",
              "      <td>338.28</td>\n",
              "      <td>339.85</td>\n",
              "      <td>4722025</td>\n",
              "      <td>23.302000</td>\n",
              "      <td>23.390000</td>\n",
              "      <td>22.552000</td>\n",
              "      <td>22.656667</td>\n",
              "      <td>70830375</td>\n",
              "      <td>0.0</td>\n",
              "      <td>1.0</td>\n",
              "    </tr>\n",
              "    <tr>\n",
              "      <th>1</th>\n",
              "      <td>TSLA</td>\n",
              "      <td>2018-01-30 00:00:00+00:00</td>\n",
              "      <td>345.82</td>\n",
              "      <td>348.27</td>\n",
              "      <td>342.17</td>\n",
              "      <td>345.14</td>\n",
              "      <td>4696465</td>\n",
              "      <td>23.054667</td>\n",
              "      <td>23.218000</td>\n",
              "      <td>22.811333</td>\n",
              "      <td>23.009333</td>\n",
              "      <td>70446975</td>\n",
              "      <td>0.0</td>\n",
              "      <td>1.0</td>\n",
              "    </tr>\n",
              "    <tr>\n",
              "      <th>2</th>\n",
              "      <td>TSLA</td>\n",
              "      <td>2018-01-31 00:00:00+00:00</td>\n",
              "      <td>354.31</td>\n",
              "      <td>356.19</td>\n",
              "      <td>345.19</td>\n",
              "      <td>347.51</td>\n",
              "      <td>6076998</td>\n",
              "      <td>23.620667</td>\n",
              "      <td>23.746000</td>\n",
              "      <td>23.012667</td>\n",
              "      <td>23.167333</td>\n",
              "      <td>91154970</td>\n",
              "      <td>0.0</td>\n",
              "      <td>1.0</td>\n",
              "    </tr>\n",
              "    <tr>\n",
              "      <th>3</th>\n",
              "      <td>TSLA</td>\n",
              "      <td>2018-02-01 00:00:00+00:00</td>\n",
              "      <td>349.25</td>\n",
              "      <td>359.66</td>\n",
              "      <td>348.63</td>\n",
              "      <td>351.00</td>\n",
              "      <td>4163194</td>\n",
              "      <td>23.283333</td>\n",
              "      <td>23.977333</td>\n",
              "      <td>23.242000</td>\n",
              "      <td>23.400000</td>\n",
              "      <td>62447910</td>\n",
              "      <td>0.0</td>\n",
              "      <td>1.0</td>\n",
              "    </tr>\n",
              "    <tr>\n",
              "      <th>4</th>\n",
              "      <td>TSLA</td>\n",
              "      <td>2018-02-02 00:00:00+00:00</td>\n",
              "      <td>343.75</td>\n",
              "      <td>351.95</td>\n",
              "      <td>340.51</td>\n",
              "      <td>348.44</td>\n",
              "      <td>3674909</td>\n",
              "      <td>22.916667</td>\n",
              "      <td>23.463333</td>\n",
              "      <td>22.700667</td>\n",
              "      <td>23.229333</td>\n",
              "      <td>55123635</td>\n",
              "      <td>0.0</td>\n",
              "      <td>1.0</td>\n",
              "    </tr>\n",
              "  </tbody>\n",
              "</table>\n",
              "</div>\n",
              "      <button class=\"colab-df-convert\" onclick=\"convertToInteractive('df-6c8a5577-b52f-41b5-916f-7708cdb6cc35')\"\n",
              "              title=\"Convert this dataframe to an interactive table.\"\n",
              "              style=\"display:none;\">\n",
              "        \n",
              "  <svg xmlns=\"http://www.w3.org/2000/svg\" height=\"24px\"viewBox=\"0 0 24 24\"\n",
              "       width=\"24px\">\n",
              "    <path d=\"M0 0h24v24H0V0z\" fill=\"none\"/>\n",
              "    <path d=\"M18.56 5.44l.94 2.06.94-2.06 2.06-.94-2.06-.94-.94-2.06-.94 2.06-2.06.94zm-11 1L8.5 8.5l.94-2.06 2.06-.94-2.06-.94L8.5 2.5l-.94 2.06-2.06.94zm10 10l.94 2.06.94-2.06 2.06-.94-2.06-.94-.94-2.06-.94 2.06-2.06.94z\"/><path d=\"M17.41 7.96l-1.37-1.37c-.4-.4-.92-.59-1.43-.59-.52 0-1.04.2-1.43.59L10.3 9.45l-7.72 7.72c-.78.78-.78 2.05 0 2.83L4 21.41c.39.39.9.59 1.41.59.51 0 1.02-.2 1.41-.59l7.78-7.78 2.81-2.81c.8-.78.8-2.07 0-2.86zM5.41 20L4 18.59l7.72-7.72 1.47 1.35L5.41 20z\"/>\n",
              "  </svg>\n",
              "      </button>\n",
              "      \n",
              "  <style>\n",
              "    .colab-df-container {\n",
              "      display:flex;\n",
              "      flex-wrap:wrap;\n",
              "      gap: 12px;\n",
              "    }\n",
              "\n",
              "    .colab-df-convert {\n",
              "      background-color: #E8F0FE;\n",
              "      border: none;\n",
              "      border-radius: 50%;\n",
              "      cursor: pointer;\n",
              "      display: none;\n",
              "      fill: #1967D2;\n",
              "      height: 32px;\n",
              "      padding: 0 0 0 0;\n",
              "      width: 32px;\n",
              "    }\n",
              "\n",
              "    .colab-df-convert:hover {\n",
              "      background-color: #E2EBFA;\n",
              "      box-shadow: 0px 1px 2px rgba(60, 64, 67, 0.3), 0px 1px 3px 1px rgba(60, 64, 67, 0.15);\n",
              "      fill: #174EA6;\n",
              "    }\n",
              "\n",
              "    [theme=dark] .colab-df-convert {\n",
              "      background-color: #3B4455;\n",
              "      fill: #D2E3FC;\n",
              "    }\n",
              "\n",
              "    [theme=dark] .colab-df-convert:hover {\n",
              "      background-color: #434B5C;\n",
              "      box-shadow: 0px 1px 3px 1px rgba(0, 0, 0, 0.15);\n",
              "      filter: drop-shadow(0px 1px 2px rgba(0, 0, 0, 0.3));\n",
              "      fill: #FFFFFF;\n",
              "    }\n",
              "  </style>\n",
              "\n",
              "      <script>\n",
              "        const buttonEl =\n",
              "          document.querySelector('#df-6c8a5577-b52f-41b5-916f-7708cdb6cc35 button.colab-df-convert');\n",
              "        buttonEl.style.display =\n",
              "          google.colab.kernel.accessAllowed ? 'block' : 'none';\n",
              "\n",
              "        async function convertToInteractive(key) {\n",
              "          const element = document.querySelector('#df-6c8a5577-b52f-41b5-916f-7708cdb6cc35');\n",
              "          const dataTable =\n",
              "            await google.colab.kernel.invokeFunction('convertToInteractive',\n",
              "                                                     [key], {});\n",
              "          if (!dataTable) return;\n",
              "\n",
              "          const docLinkHtml = 'Like what you see? Visit the ' +\n",
              "            '<a target=\"_blank\" href=https://colab.research.google.com/notebooks/data_table.ipynb>data table notebook</a>'\n",
              "            + ' to learn more about interactive tables.';\n",
              "          element.innerHTML = '';\n",
              "          dataTable['output_type'] = 'display_data';\n",
              "          await google.colab.output.renderOutput(dataTable, element);\n",
              "          const docLink = document.createElement('div');\n",
              "          docLink.innerHTML = docLinkHtml;\n",
              "          element.appendChild(docLink);\n",
              "        }\n",
              "      </script>\n",
              "    </div>\n",
              "  </div>\n",
              "  "
            ]
          },
          "metadata": {},
          "execution_count": 6
        }
      ]
    },
    {
      "cell_type": "code",
      "source": [
        "df.tail()"
      ],
      "metadata": {
        "colab": {
          "base_uri": "https://localhost:8080/",
          "height": 206
        },
        "id": "kTpP31bpJL23",
        "outputId": "4fb7a9d4-77f5-42ae-c88b-47a76ef50ef3"
      },
      "execution_count": null,
      "outputs": [
        {
          "output_type": "execute_result",
          "data": {
            "text/plain": [
              "     symbol                       date   close      high       low     open  \\\n",
              "1252   TSLA  2023-01-19 00:00:00+00:00  127.17  129.9900  124.3082  127.260   \n",
              "1253   TSLA  2023-01-20 00:00:00+00:00  133.42  133.5100  127.3466  128.680   \n",
              "1254   TSLA  2023-01-23 00:00:00+00:00  143.75  145.3793  134.2700  135.870   \n",
              "1255   TSLA  2023-01-24 00:00:00+00:00  143.89  146.5000  141.1000  143.000   \n",
              "1256   TSLA  2023-01-25 00:00:00+00:00  144.43  146.4100  138.0700  141.905   \n",
              "\n",
              "         volume  adjClose   adjHigh    adjLow  adjOpen  adjVolume  divCash  \\\n",
              "1252  170291880    127.17  129.9900  124.3082  127.260  170291880      0.0   \n",
              "1253  138858136    133.42  133.5100  127.3466  128.680  138858136      0.0   \n",
              "1254  203119211    143.75  145.3793  134.2700  135.870  203119211      0.0   \n",
              "1255  158699056    143.89  146.5000  141.1000  143.000  158699056      0.0   \n",
              "1256  192734347    144.43  146.4100  138.0700  141.905  192734347      0.0   \n",
              "\n",
              "      splitFactor  \n",
              "1252          1.0  \n",
              "1253          1.0  \n",
              "1254          1.0  \n",
              "1255          1.0  \n",
              "1256          1.0  "
            ],
            "text/html": [
              "\n",
              "  <div id=\"df-9f991e62-a497-4f35-98fb-8e11cb30fefd\">\n",
              "    <div class=\"colab-df-container\">\n",
              "      <div>\n",
              "<style scoped>\n",
              "    .dataframe tbody tr th:only-of-type {\n",
              "        vertical-align: middle;\n",
              "    }\n",
              "\n",
              "    .dataframe tbody tr th {\n",
              "        vertical-align: top;\n",
              "    }\n",
              "\n",
              "    .dataframe thead th {\n",
              "        text-align: right;\n",
              "    }\n",
              "</style>\n",
              "<table border=\"1\" class=\"dataframe\">\n",
              "  <thead>\n",
              "    <tr style=\"text-align: right;\">\n",
              "      <th></th>\n",
              "      <th>symbol</th>\n",
              "      <th>date</th>\n",
              "      <th>close</th>\n",
              "      <th>high</th>\n",
              "      <th>low</th>\n",
              "      <th>open</th>\n",
              "      <th>volume</th>\n",
              "      <th>adjClose</th>\n",
              "      <th>adjHigh</th>\n",
              "      <th>adjLow</th>\n",
              "      <th>adjOpen</th>\n",
              "      <th>adjVolume</th>\n",
              "      <th>divCash</th>\n",
              "      <th>splitFactor</th>\n",
              "    </tr>\n",
              "  </thead>\n",
              "  <tbody>\n",
              "    <tr>\n",
              "      <th>1252</th>\n",
              "      <td>TSLA</td>\n",
              "      <td>2023-01-19 00:00:00+00:00</td>\n",
              "      <td>127.17</td>\n",
              "      <td>129.9900</td>\n",
              "      <td>124.3082</td>\n",
              "      <td>127.260</td>\n",
              "      <td>170291880</td>\n",
              "      <td>127.17</td>\n",
              "      <td>129.9900</td>\n",
              "      <td>124.3082</td>\n",
              "      <td>127.260</td>\n",
              "      <td>170291880</td>\n",
              "      <td>0.0</td>\n",
              "      <td>1.0</td>\n",
              "    </tr>\n",
              "    <tr>\n",
              "      <th>1253</th>\n",
              "      <td>TSLA</td>\n",
              "      <td>2023-01-20 00:00:00+00:00</td>\n",
              "      <td>133.42</td>\n",
              "      <td>133.5100</td>\n",
              "      <td>127.3466</td>\n",
              "      <td>128.680</td>\n",
              "      <td>138858136</td>\n",
              "      <td>133.42</td>\n",
              "      <td>133.5100</td>\n",
              "      <td>127.3466</td>\n",
              "      <td>128.680</td>\n",
              "      <td>138858136</td>\n",
              "      <td>0.0</td>\n",
              "      <td>1.0</td>\n",
              "    </tr>\n",
              "    <tr>\n",
              "      <th>1254</th>\n",
              "      <td>TSLA</td>\n",
              "      <td>2023-01-23 00:00:00+00:00</td>\n",
              "      <td>143.75</td>\n",
              "      <td>145.3793</td>\n",
              "      <td>134.2700</td>\n",
              "      <td>135.870</td>\n",
              "      <td>203119211</td>\n",
              "      <td>143.75</td>\n",
              "      <td>145.3793</td>\n",
              "      <td>134.2700</td>\n",
              "      <td>135.870</td>\n",
              "      <td>203119211</td>\n",
              "      <td>0.0</td>\n",
              "      <td>1.0</td>\n",
              "    </tr>\n",
              "    <tr>\n",
              "      <th>1255</th>\n",
              "      <td>TSLA</td>\n",
              "      <td>2023-01-24 00:00:00+00:00</td>\n",
              "      <td>143.89</td>\n",
              "      <td>146.5000</td>\n",
              "      <td>141.1000</td>\n",
              "      <td>143.000</td>\n",
              "      <td>158699056</td>\n",
              "      <td>143.89</td>\n",
              "      <td>146.5000</td>\n",
              "      <td>141.1000</td>\n",
              "      <td>143.000</td>\n",
              "      <td>158699056</td>\n",
              "      <td>0.0</td>\n",
              "      <td>1.0</td>\n",
              "    </tr>\n",
              "    <tr>\n",
              "      <th>1256</th>\n",
              "      <td>TSLA</td>\n",
              "      <td>2023-01-25 00:00:00+00:00</td>\n",
              "      <td>144.43</td>\n",
              "      <td>146.4100</td>\n",
              "      <td>138.0700</td>\n",
              "      <td>141.905</td>\n",
              "      <td>192734347</td>\n",
              "      <td>144.43</td>\n",
              "      <td>146.4100</td>\n",
              "      <td>138.0700</td>\n",
              "      <td>141.905</td>\n",
              "      <td>192734347</td>\n",
              "      <td>0.0</td>\n",
              "      <td>1.0</td>\n",
              "    </tr>\n",
              "  </tbody>\n",
              "</table>\n",
              "</div>\n",
              "      <button class=\"colab-df-convert\" onclick=\"convertToInteractive('df-9f991e62-a497-4f35-98fb-8e11cb30fefd')\"\n",
              "              title=\"Convert this dataframe to an interactive table.\"\n",
              "              style=\"display:none;\">\n",
              "        \n",
              "  <svg xmlns=\"http://www.w3.org/2000/svg\" height=\"24px\"viewBox=\"0 0 24 24\"\n",
              "       width=\"24px\">\n",
              "    <path d=\"M0 0h24v24H0V0z\" fill=\"none\"/>\n",
              "    <path d=\"M18.56 5.44l.94 2.06.94-2.06 2.06-.94-2.06-.94-.94-2.06-.94 2.06-2.06.94zm-11 1L8.5 8.5l.94-2.06 2.06-.94-2.06-.94L8.5 2.5l-.94 2.06-2.06.94zm10 10l.94 2.06.94-2.06 2.06-.94-2.06-.94-.94-2.06-.94 2.06-2.06.94z\"/><path d=\"M17.41 7.96l-1.37-1.37c-.4-.4-.92-.59-1.43-.59-.52 0-1.04.2-1.43.59L10.3 9.45l-7.72 7.72c-.78.78-.78 2.05 0 2.83L4 21.41c.39.39.9.59 1.41.59.51 0 1.02-.2 1.41-.59l7.78-7.78 2.81-2.81c.8-.78.8-2.07 0-2.86zM5.41 20L4 18.59l7.72-7.72 1.47 1.35L5.41 20z\"/>\n",
              "  </svg>\n",
              "      </button>\n",
              "      \n",
              "  <style>\n",
              "    .colab-df-container {\n",
              "      display:flex;\n",
              "      flex-wrap:wrap;\n",
              "      gap: 12px;\n",
              "    }\n",
              "\n",
              "    .colab-df-convert {\n",
              "      background-color: #E8F0FE;\n",
              "      border: none;\n",
              "      border-radius: 50%;\n",
              "      cursor: pointer;\n",
              "      display: none;\n",
              "      fill: #1967D2;\n",
              "      height: 32px;\n",
              "      padding: 0 0 0 0;\n",
              "      width: 32px;\n",
              "    }\n",
              "\n",
              "    .colab-df-convert:hover {\n",
              "      background-color: #E2EBFA;\n",
              "      box-shadow: 0px 1px 2px rgba(60, 64, 67, 0.3), 0px 1px 3px 1px rgba(60, 64, 67, 0.15);\n",
              "      fill: #174EA6;\n",
              "    }\n",
              "\n",
              "    [theme=dark] .colab-df-convert {\n",
              "      background-color: #3B4455;\n",
              "      fill: #D2E3FC;\n",
              "    }\n",
              "\n",
              "    [theme=dark] .colab-df-convert:hover {\n",
              "      background-color: #434B5C;\n",
              "      box-shadow: 0px 1px 3px 1px rgba(0, 0, 0, 0.15);\n",
              "      filter: drop-shadow(0px 1px 2px rgba(0, 0, 0, 0.3));\n",
              "      fill: #FFFFFF;\n",
              "    }\n",
              "  </style>\n",
              "\n",
              "      <script>\n",
              "        const buttonEl =\n",
              "          document.querySelector('#df-9f991e62-a497-4f35-98fb-8e11cb30fefd button.colab-df-convert');\n",
              "        buttonEl.style.display =\n",
              "          google.colab.kernel.accessAllowed ? 'block' : 'none';\n",
              "\n",
              "        async function convertToInteractive(key) {\n",
              "          const element = document.querySelector('#df-9f991e62-a497-4f35-98fb-8e11cb30fefd');\n",
              "          const dataTable =\n",
              "            await google.colab.kernel.invokeFunction('convertToInteractive',\n",
              "                                                     [key], {});\n",
              "          if (!dataTable) return;\n",
              "\n",
              "          const docLinkHtml = 'Like what you see? Visit the ' +\n",
              "            '<a target=\"_blank\" href=https://colab.research.google.com/notebooks/data_table.ipynb>data table notebook</a>'\n",
              "            + ' to learn more about interactive tables.';\n",
              "          element.innerHTML = '';\n",
              "          dataTable['output_type'] = 'display_data';\n",
              "          await google.colab.output.renderOutput(dataTable, element);\n",
              "          const docLink = document.createElement('div');\n",
              "          docLink.innerHTML = docLinkHtml;\n",
              "          element.appendChild(docLink);\n",
              "        }\n",
              "      </script>\n",
              "    </div>\n",
              "  </div>\n",
              "  "
            ]
          },
          "metadata": {},
          "execution_count": 7
        }
      ]
    },
    {
      "cell_type": "code",
      "source": [
        "#df['Close'].isna().sum()"
      ],
      "metadata": {
        "id": "gW3HrrhQZff6"
      },
      "execution_count": null,
      "outputs": []
    },
    {
      "cell_type": "code",
      "source": [
        "#df = df['Close']"
      ],
      "metadata": {
        "id": "nMIYJh9kZ497"
      },
      "execution_count": null,
      "outputs": []
    },
    {
      "cell_type": "code",
      "source": [
        "#df=df.dropna()"
      ],
      "metadata": {
        "id": "V1Kr9V6UZ7IC"
      },
      "execution_count": null,
      "outputs": []
    },
    {
      "cell_type": "code",
      "source": [
        "df1=df.reset_index()['close']"
      ],
      "metadata": {
        "id": "Xf2HtuBeJfmr"
      },
      "execution_count": null,
      "outputs": []
    },
    {
      "cell_type": "code",
      "source": [
        "df1=df1.dropna()"
      ],
      "metadata": {
        "id": "bMPEbJA2Zzmr"
      },
      "execution_count": null,
      "outputs": []
    },
    {
      "cell_type": "code",
      "source": [
        "df1.head()"
      ],
      "metadata": {
        "colab": {
          "base_uri": "https://localhost:8080/"
        },
        "id": "ZXNScUCwJnu9",
        "outputId": "3f713f7a-314f-4dd3-a11b-d16fac787ac7"
      },
      "execution_count": null,
      "outputs": [
        {
          "output_type": "execute_result",
          "data": {
            "text/plain": [
              "0    349.53\n",
              "1    345.82\n",
              "2    354.31\n",
              "3    349.25\n",
              "4    343.75\n",
              "Name: close, dtype: float64"
            ]
          },
          "metadata": {},
          "execution_count": 13
        }
      ]
    },
    {
      "cell_type": "code",
      "source": [
        "import matplotlib.pyplot as plt\n",
        "plt.plot(df1)"
      ],
      "metadata": {
        "colab": {
          "base_uri": "https://localhost:8080/",
          "height": 282
        },
        "id": "iT074BZ9JqB2",
        "outputId": "7ff28fda-9717-4d0d-b7db-9c92ee97c8ab"
      },
      "execution_count": null,
      "outputs": [
        {
          "output_type": "execute_result",
          "data": {
            "text/plain": [
              "[<matplotlib.lines.Line2D at 0x7fb4ccc90190>]"
            ]
          },
          "metadata": {},
          "execution_count": 14
        },
        {
          "output_type": "display_data",
          "data": {
            "text/plain": [
              "<Figure size 432x288 with 1 Axes>"
            ],
            "image/png": "[encoded data removed]"
          },
          "metadata": {
            "needs_background": "light"
          }
        }
      ]
    },
    {
      "cell_type": "code",
      "source": [
        "import numpy as np\n",
        "from sklearn.preprocessing import MinMaxScaler\n",
        "scaler=MinMaxScaler(feature_range=(0,1))\n",
        "df1=scaler.fit_transform(np.array(df1).reshape(-1,1))"
      ],
      "metadata": {
        "id": "BQTwakikK_yM"
      },
      "execution_count": null,
      "outputs": []
    },
    {
      "cell_type": "code",
      "source": [
        "df1"
      ],
      "metadata": {
        "colab": {
          "base_uri": "https://localhost:8080/"
        },
        "id": "yd9lwI7qLi2N",
        "outputId": "f78d03b3-217d-4b52-8a46-2e2d19225f62"
      },
      "execution_count": null,
      "outputs": [
        {
          "output_type": "execute_result",
          "data": {
            "text/plain": [
              "array([[0.11331284],\n",
              "       [0.11157159],\n",
              "       [0.11555629],\n",
              "       ...,\n",
              "       [0.01673198],\n",
              "       [0.01679769],\n",
              "       [0.01705113]])"
            ]
          },
          "metadata": {},
          "execution_count": 16
        }
      ]
    },
    {
      "cell_type": "code",
      "source": [
        "df1.shape"
      ],
      "metadata": {
        "colab": {
          "base_uri": "https://localhost:8080/"
        },
        "id": "AZzys59HMdYb",
        "outputId": "affe3c12-d3e6-4c02-95c8-e0b192fb5ef5"
      },
      "execution_count": null,
      "outputs": [
        {
          "output_type": "execute_result",
          "data": {
            "text/plain": [
              "(1257, 1)"
            ]
          },
          "metadata": {},
          "execution_count": 17
        }
      ]
    },
    {
      "cell_type": "code",
      "source": [
        "##splitting dataset into train and test split\n",
        "training_size=int(len(df1)*0.65)\n",
        "test_size=len(df1)-training_size\n",
        "train_data,test_data=df1[0:training_size,:],df1[training_size:len(df1),:1]"
      ],
      "metadata": {
        "id": "arO_iwasLkdK"
      },
      "execution_count": null,
      "outputs": []
    },
    {
      "cell_type": "code",
      "source": [
        "train_data.shape"
      ],
      "metadata": {
        "colab": {
          "base_uri": "https://localhost:8080/"
        },
        "id": "Cskk6C_IMP2i",
        "outputId": "192a84f3-cacd-4b48-8023-995f7879fd6c"
      },
      "execution_count": null,
      "outputs": [
        {
          "output_type": "execute_result",
          "data": {
            "text/plain": [
              "(817, 1)"
            ]
          },
          "metadata": {},
          "execution_count": 19
        }
      ]
    },
    {
      "cell_type": "code",
      "source": [
        "test_data.shape"
      ],
      "metadata": {
        "colab": {
          "base_uri": "https://localhost:8080/"
        },
        "id": "164RMi1xMly8",
        "outputId": "6c1ff2bf-256f-4d85-f144-b674f0ca3539"
      },
      "execution_count": null,
      "outputs": [
        {
          "output_type": "execute_result",
          "data": {
            "text/plain": [
              "(440, 1)"
            ]
          },
          "metadata": {},
          "execution_count": 20
        }
      ]
    },
    {
      "cell_type": "code",
      "source": [
        "import numpy\n",
        "def create_dataset(dataset, time_step=1):\n",
        "  dataX, dataY= [],[]\n",
        "  for i in range(len(dataset)-time_step-1):\n",
        "    a = dataset[i:(i+time_step), 0]   ###i=0, 0,1,2,3-----99   100 \n",
        "    dataX.append(a)\n",
        "    dataY.append(dataset[i + time_step, 0])\n",
        "  return numpy.array(dataX), numpy.array(dataY)"
      ],
      "metadata": {
        "id": "o29URXrAMpMd"
      },
      "execution_count": null,
      "outputs": []
    },
    {
      "cell_type": "code",
      "source": [
        "time_step = 100\n",
        "X_train, y_train = create_dataset(train_data, time_step)\n",
        "X_test, ytest = create_dataset(test_data, time_step)"
      ],
      "metadata": {
        "id": "mYXu2cz-QYI7"
      },
      "execution_count": null,
      "outputs": []
    },
    {
      "cell_type": "code",
      "source": [
        "print(X_train.shape), print(y_train.shape)"
      ],
      "metadata": {
        "colab": {
          "base_uri": "https://localhost:8080/"
        },
        "id": "DGuVIOzdOx8m",
        "outputId": "6997acbf-dc6c-43e2-85bd-e6d6eede9f3d"
      },
      "execution_count": null,
      "outputs": [
        {
          "output_type": "stream",
          "name": "stdout",
          "text": [
            "(716, 100)\n",
            "(716,)\n"
          ]
        },
        {
          "output_type": "execute_result",
          "data": {
            "text/plain": [
              "(None, None)"
            ]
          },
          "metadata": {},
          "execution_count": 23
        }
      ]
    },
    {
      "cell_type": "code",
      "source": [
        "# reshape input to be [samples, time steps, features] which is required for LSTM\n",
        "X_train =X_train.reshape(X_train.shape[0],X_train.shape[1] , 1)\n",
        "X_test = X_test.reshape(X_test.shape[0],X_test.shape[1] , 1)"
      ],
      "metadata": {
        "id": "xm_kcmA9QW-L"
      },
      "execution_count": null,
      "outputs": []
    },
    {
      "cell_type": "code",
      "source": [
        "X_train.shape"
      ],
      "metadata": {
        "colab": {
          "base_uri": "https://localhost:8080/"
        },
        "id": "sQj_nGwyQ8ya",
        "outputId": "3241c36e-3aad-4248-f0e2-cb0500077176"
      },
      "execution_count": null,
      "outputs": [
        {
          "output_type": "execute_result",
          "data": {
            "text/plain": [
              "(716, 100, 1)"
            ]
          },
          "metadata": {},
          "execution_count": 25
        }
      ]
    },
    {
      "cell_type": "code",
      "source": [
        "### Create the Stacked LSTM model\n",
        "from tensorflow.keras.models import Sequential\n",
        "from tensorflow.keras.layers import Dense\n",
        "from tensorflow.keras.layers import LSTM"
      ],
      "metadata": {
        "id": "50Ew3i9vQqxw"
      },
      "execution_count": null,
      "outputs": []
    },
    {
      "cell_type": "code",
      "source": [
        "model=Sequential()\n",
        "model.add(LSTM(50,return_sequences=True,input_shape=(100,1)))\n",
        "model.add(LSTM(50,return_sequences=True))\n",
        "model.add(LSTM(50))\n",
        "model.add(Dense(1))\n",
        "model.compile(loss='mean_squared_error',optimizer='adam')"
      ],
      "metadata": {
        "id": "HGPTYQhBQtUR"
      },
      "execution_count": null,
      "outputs": []
    },
    {
      "cell_type": "code",
      "source": [
        "model.summary()"
      ],
      "metadata": {
        "colab": {
          "base_uri": "https://localhost:8080/"
        },
        "id": "fYt15WFtQweR",
        "outputId": "e4410c99-7698-43ca-9949-c447db3486e7"
      },
      "execution_count": null,
      "outputs": [
        {
          "output_type": "stream",
          "name": "stdout",
          "text": [
            "Model: \"sequential\"\n",
            "_________________________________________________________________\n",
            " Layer (type)                Output Shape              Param #   \n",
            "=================================================================\n",
            " lstm (LSTM)                 (None, 100, 50)           10400     \n",
            "                                                                 \n",
            " lstm_1 (LSTM)               (None, 100, 50)           20200     \n",
            "                                                                 \n",
            " lstm_2 (LSTM)               (None, 50)                20200     \n",
            "                                                                 \n",
            " dense (Dense)               (None, 1)                 51        \n",
            "                                                                 \n",
            "=================================================================\n",
            "Total params: 50,851\n",
            "Trainable params: 50,851\n",
            "Non-trainable params: 0\n",
            "_________________________________________________________________\n"
          ]
        }
      ]
    },
    {
      "cell_type": "code",
      "source": [
        "model.fit(X_train,y_train,validation_data=(X_test,ytest),epochs=100,batch_size=64,verbose=1)"
      ],
      "metadata": {
        "colab": {
          "base_uri": "https://localhost:8080/"
        },
        "id": "Cr24x5M0RBSm",
        "outputId": "d4f958d9-ebd9-49fd-80a1-86190d1b67c3"
      },
      "execution_count": null,
      "outputs": [
        {
          "output_type": "stream",
          "name": "stdout",
          "text": [
            "Epoch 1/100\n",
            "12/12 [==============================] - 10s 118ms/step - loss: 0.0264 - val_loss: 0.0106\n",
            "Epoch 2/100\n",
            "12/12 [==============================] - 0s 20ms/step - loss: 0.0109 - val_loss: 0.0044\n",
            "Epoch 3/100\n",
            "12/12 [==============================] - 0s 22ms/step - loss: 0.0075 - val_loss: 0.0044\n",
            "Epoch 4/100\n",
            "12/12 [==============================] - 0s 20ms/step - loss: 0.0072 - val_loss: 0.0043\n",
            "Epoch 5/100\n",
            "12/12 [==============================] - 0s 20ms/step - loss: 0.0067 - val_loss: 0.0033\n",
            "Epoch 6/100\n",
            "12/12 [==============================] - 0s 20ms/step - loss: 0.0060 - val_loss: 0.0029\n",
            "Epoch 7/100\n",
            "12/12 [==============================] - 0s 20ms/step - loss: 0.0055 - val_loss: 0.0032\n",
            "Epoch 8/100\n",
            "12/12 [==============================] - 0s 21ms/step - loss: 0.0057 - val_loss: 0.0031\n",
            "Epoch 9/100\n",
            "12/12 [==============================] - 0s 19ms/step - loss: 0.0062 - val_loss: 0.0064\n",
            "Epoch 10/100\n",
            "12/12 [==============================] - 0s 21ms/step - loss: 0.0059 - val_loss: 0.0027\n",
            "Epoch 11/100\n",
            "12/12 [==============================] - 0s 21ms/step - loss: 0.0061 - val_loss: 0.0035\n",
            "Epoch 12/100\n",
            "12/12 [==============================] - 0s 21ms/step - loss: 0.0052 - val_loss: 0.0025\n",
            "Epoch 13/100\n",
            "12/12 [==============================] - 0s 19ms/step - loss: 0.0043 - val_loss: 0.0024\n",
            "Epoch 14/100\n",
            "12/12 [==============================] - 0s 20ms/step - loss: 0.0039 - val_loss: 0.0020\n",
            "Epoch 15/100\n",
            "12/12 [==============================] - 0s 20ms/step - loss: 0.0037 - val_loss: 0.0019\n",
            "Epoch 16/100\n",
            "12/12 [==============================] - 0s 21ms/step - loss: 0.0036 - val_loss: 0.0020\n",
            "Epoch 17/100\n",
            "12/12 [==============================] - 0s 40ms/step - loss: 0.0030 - val_loss: 0.0018\n",
            "Epoch 18/100\n",
            "12/12 [==============================] - 0s 34ms/step - loss: 0.0026 - val_loss: 0.0021\n",
            "Epoch 19/100\n",
            "12/12 [==============================] - 0s 21ms/step - loss: 0.0023 - val_loss: 0.0025\n",
            "Epoch 20/100\n",
            "12/12 [==============================] - 0s 35ms/step - loss: 0.0018 - val_loss: 0.0015\n",
            "Epoch 21/100\n",
            "12/12 [==============================] - 0s 37ms/step - loss: 0.0019 - val_loss: 0.0016\n",
            "Epoch 22/100\n",
            "12/12 [==============================] - 0s 19ms/step - loss: 0.0017 - val_loss: 0.0015\n",
            "Epoch 23/100\n",
            "12/12 [==============================] - 0s 21ms/step - loss: 0.0016 - val_loss: 0.0019\n",
            "Epoch 24/100\n",
            "12/12 [==============================] - 0s 19ms/step - loss: 0.0015 - val_loss: 0.0021\n",
            "Epoch 25/100\n",
            "12/12 [==============================] - 0s 21ms/step - loss: 0.0013 - val_loss: 0.0020\n",
            "Epoch 26/100\n",
            "12/12 [==============================] - 0s 20ms/step - loss: 0.0018 - val_loss: 0.0019\n",
            "Epoch 27/100\n",
            "12/12 [==============================] - 0s 20ms/step - loss: 0.0017 - val_loss: 0.0017\n",
            "Epoch 28/100\n",
            "12/12 [==============================] - 0s 20ms/step - loss: 0.0015 - val_loss: 0.0022\n",
            "Epoch 29/100\n",
            "12/12 [==============================] - 0s 21ms/step - loss: 0.0016 - val_loss: 0.0028\n",
            "Epoch 30/100\n",
            "12/12 [==============================] - 0s 22ms/step - loss: 0.0017 - val_loss: 0.0015\n",
            "Epoch 31/100\n",
            "12/12 [==============================] - 0s 19ms/step - loss: 0.0015 - val_loss: 0.0019\n",
            "Epoch 32/100\n",
            "12/12 [==============================] - 0s 20ms/step - loss: 0.0019 - val_loss: 0.0016\n",
            "Epoch 33/100\n",
            "12/12 [==============================] - 0s 20ms/step - loss: 0.0017 - val_loss: 0.0014\n",
            "Epoch 34/100\n",
            "12/12 [==============================] - 0s 23ms/step - loss: 0.0014 - val_loss: 0.0014\n",
            "Epoch 35/100\n",
            "12/12 [==============================] - 0s 21ms/step - loss: 0.0012 - val_loss: 0.0014\n",
            "Epoch 36/100\n",
            "12/12 [==============================] - 0s 19ms/step - loss: 0.0013 - val_loss: 0.0016\n",
            "Epoch 37/100\n",
            "12/12 [==============================] - 0s 21ms/step - loss: 0.0012 - val_loss: 0.0020\n",
            "Epoch 38/100\n",
            "12/12 [==============================] - 0s 22ms/step - loss: 0.0016 - val_loss: 0.0019\n",
            "Epoch 39/100\n",
            "12/12 [==============================] - 0s 23ms/step - loss: 0.0017 - val_loss: 0.0015\n",
            "Epoch 40/100\n",
            "12/12 [==============================] - 0s 20ms/step - loss: 0.0016 - val_loss: 0.0016\n",
            "Epoch 41/100\n",
            "12/12 [==============================] - 0s 21ms/step - loss: 0.0024 - val_loss: 0.0017\n",
            "Epoch 42/100\n",
            "12/12 [==============================] - 0s 21ms/step - loss: 0.0022 - val_loss: 0.0014\n",
            "Epoch 43/100\n",
            "12/12 [==============================] - 0s 20ms/step - loss: 0.0017 - val_loss: 0.0015\n",
            "Epoch 44/100\n",
            "12/12 [==============================] - 0s 21ms/step - loss: 0.0014 - val_loss: 0.0015\n",
            "Epoch 45/100\n",
            "12/12 [==============================] - 0s 20ms/step - loss: 0.0014 - val_loss: 0.0015\n",
            "Epoch 46/100\n",
            "12/12 [==============================] - 0s 21ms/step - loss: 0.0012 - val_loss: 0.0014\n",
            "Epoch 47/100\n",
            "12/12 [==============================] - 0s 20ms/step - loss: 0.0015 - val_loss: 0.0021\n",
            "Epoch 48/100\n",
            "12/12 [==============================] - 0s 19ms/step - loss: 0.0013 - val_loss: 0.0015\n",
            "Epoch 49/100\n",
            "12/12 [==============================] - 0s 21ms/step - loss: 0.0012 - val_loss: 0.0018\n",
            "Epoch 50/100\n",
            "12/12 [==============================] - 0s 22ms/step - loss: 0.0012 - val_loss: 0.0013\n",
            "Epoch 51/100\n",
            "12/12 [==============================] - 0s 20ms/step - loss: 0.0013 - val_loss: 0.0013\n",
            "Epoch 52/100\n",
            "12/12 [==============================] - 0s 19ms/step - loss: 0.0011 - val_loss: 0.0014\n",
            "Epoch 53/100\n",
            "12/12 [==============================] - 0s 19ms/step - loss: 0.0012 - val_loss: 0.0013\n",
            "Epoch 54/100\n",
            "12/12 [==============================] - 0s 21ms/step - loss: 0.0011 - val_loss: 0.0015\n",
            "Epoch 55/100\n",
            "12/12 [==============================] - 0s 20ms/step - loss: 0.0011 - val_loss: 0.0013\n",
            "Epoch 56/100\n",
            "12/12 [==============================] - 0s 20ms/step - loss: 0.0013 - val_loss: 0.0016\n",
            "Epoch 57/100\n",
            "12/12 [==============================] - 0s 20ms/step - loss: 0.0011 - val_loss: 0.0013\n",
            "Epoch 58/100\n",
            "12/12 [==============================] - 0s 21ms/step - loss: 0.0012 - val_loss: 0.0014\n",
            "Epoch 59/100\n",
            "12/12 [==============================] - 0s 20ms/step - loss: 0.0014 - val_loss: 0.0012\n",
            "Epoch 60/100\n",
            "12/12 [==============================] - 0s 19ms/step - loss: 0.0018 - val_loss: 0.0015\n",
            "Epoch 61/100\n",
            "12/12 [==============================] - 0s 21ms/step - loss: 0.0012 - val_loss: 0.0012\n",
            "Epoch 62/100\n",
            "12/12 [==============================] - 0s 20ms/step - loss: 0.0012 - val_loss: 0.0012\n",
            "Epoch 63/100\n",
            "12/12 [==============================] - 0s 22ms/step - loss: 0.0010 - val_loss: 0.0013\n",
            "Epoch 64/100\n",
            "12/12 [==============================] - 0s 19ms/step - loss: 0.0012 - val_loss: 0.0012\n",
            "Epoch 65/100\n",
            "12/12 [==============================] - 0s 21ms/step - loss: 0.0010 - val_loss: 0.0016\n",
            "Epoch 66/100\n",
            "12/12 [==============================] - 0s 22ms/step - loss: 0.0014 - val_loss: 0.0021\n",
            "Epoch 67/100\n",
            "12/12 [==============================] - 0s 22ms/step - loss: 0.0016 - val_loss: 0.0013\n",
            "Epoch 68/100\n",
            "12/12 [==============================] - 0s 21ms/step - loss: 0.0014 - val_loss: 0.0015\n",
            "Epoch 69/100\n",
            "12/12 [==============================] - 0s 22ms/step - loss: 0.0011 - val_loss: 0.0014\n",
            "Epoch 70/100\n",
            "12/12 [==============================] - 0s 21ms/step - loss: 0.0014 - val_loss: 0.0016\n",
            "Epoch 71/100\n",
            "12/12 [==============================] - 0s 21ms/step - loss: 0.0012 - val_loss: 0.0012\n",
            "Epoch 72/100\n",
            "12/12 [==============================] - 0s 20ms/step - loss: 0.0012 - val_loss: 0.0012\n",
            "Epoch 73/100\n",
            "12/12 [==============================] - 0s 20ms/step - loss: 0.0013 - val_loss: 0.0012\n",
            "Epoch 74/100\n",
            "12/12 [==============================] - 0s 22ms/step - loss: 0.0010 - val_loss: 0.0012\n",
            "Epoch 75/100\n",
            "12/12 [==============================] - 0s 22ms/step - loss: 0.0012 - val_loss: 0.0016\n",
            "Epoch 76/100\n",
            "12/12 [==============================] - 0s 20ms/step - loss: 0.0011 - val_loss: 0.0018\n",
            "Epoch 77/100\n",
            "12/12 [==============================] - 0s 21ms/step - loss: 0.0012 - val_loss: 0.0014\n",
            "Epoch 78/100\n",
            "12/12 [==============================] - 0s 20ms/step - loss: 0.0012 - val_loss: 0.0013\n",
            "Epoch 79/100\n",
            "12/12 [==============================] - 0s 22ms/step - loss: 0.0012 - val_loss: 0.0012\n",
            "Epoch 80/100\n",
            "12/12 [==============================] - 0s 20ms/step - loss: 0.0011 - val_loss: 0.0013\n",
            "Epoch 81/100\n",
            "12/12 [==============================] - 0s 23ms/step - loss: 0.0011 - val_loss: 0.0012\n",
            "Epoch 82/100\n",
            "12/12 [==============================] - 0s 20ms/step - loss: 0.0010 - val_loss: 0.0012\n",
            "Epoch 83/100\n",
            "12/12 [==============================] - 0s 20ms/step - loss: 0.0010 - val_loss: 0.0011\n",
            "Epoch 84/100\n",
            "12/12 [==============================] - 0s 21ms/step - loss: 0.0030 - val_loss: 0.0020\n",
            "Epoch 85/100\n",
            "12/12 [==============================] - 0s 21ms/step - loss: 0.0024 - val_loss: 0.0013\n",
            "Epoch 86/100\n",
            "12/12 [==============================] - 0s 20ms/step - loss: 0.0023 - val_loss: 0.0031\n",
            "Epoch 87/100\n",
            "12/12 [==============================] - 0s 21ms/step - loss: 0.0019 - val_loss: 0.0017\n",
            "Epoch 88/100\n",
            "12/12 [==============================] - 0s 20ms/step - loss: 0.0019 - val_loss: 0.0020\n",
            "Epoch 89/100\n",
            "12/12 [==============================] - 0s 22ms/step - loss: 0.0015 - val_loss: 0.0018\n",
            "Epoch 90/100\n",
            "12/12 [==============================] - 0s 21ms/step - loss: 0.0014 - val_loss: 0.0010\n",
            "Epoch 91/100\n",
            "12/12 [==============================] - 0s 22ms/step - loss: 0.0013 - val_loss: 0.0011\n",
            "Epoch 92/100\n",
            "12/12 [==============================] - 0s 20ms/step - loss: 0.0014 - val_loss: 0.0025\n",
            "Epoch 93/100\n",
            "12/12 [==============================] - 0s 19ms/step - loss: 0.0017 - val_loss: 0.0040\n",
            "Epoch 94/100\n",
            "12/12 [==============================] - 0s 20ms/step - loss: 0.0018 - val_loss: 0.0016\n",
            "Epoch 95/100\n",
            "12/12 [==============================] - 0s 22ms/step - loss: 0.0014 - val_loss: 0.0011\n",
            "Epoch 96/100\n",
            "12/12 [==============================] - 0s 20ms/step - loss: 0.0013 - val_loss: 9.8832e-04\n",
            "Epoch 97/100\n",
            "12/12 [==============================] - 0s 19ms/step - loss: 0.0013 - val_loss: 9.8858e-04\n",
            "Epoch 98/100\n",
            "12/12 [==============================] - 0s 22ms/step - loss: 0.0015 - val_loss: 0.0015\n",
            "Epoch 99/100\n",
            "12/12 [==============================] - 0s 23ms/step - loss: 0.0016 - val_loss: 0.0010\n",
            "Epoch 100/100\n",
            "12/12 [==============================] - 0s 21ms/step - loss: 0.0014 - val_loss: 0.0018\n"
          ]
        },
        {
          "output_type": "execute_result",
          "data": {
            "text/plain": [
              "<keras.callbacks.History at 0x7fb460135880>"
            ]
          },
          "metadata": {},
          "execution_count": 29
        }
      ]
    },
    {
      "cell_type": "code",
      "source": [
        "import tensorflow as tf"
      ],
      "metadata": {
        "id": "lZ1_ncRwRYkq"
      },
      "execution_count": null,
      "outputs": []
    },
    {
      "cell_type": "code",
      "source": [
        "tf.__version__"
      ],
      "metadata": {
        "colab": {
          "base_uri": "https://localhost:8080/",
          "height": 36
        },
        "id": "10ZCd2OnRscD",
        "outputId": "8a062f20-b892-4db9-983d-bf01b90ae572"
      },
      "execution_count": null,
      "outputs": [
        {
          "output_type": "execute_result",
          "data": {
            "text/plain": [
              "'2.9.2'"
            ],
            "application/vnd.google.colaboratory.intrinsic+json": {
              "type": "string"
            }
          },
          "metadata": {},
          "execution_count": 31
        }
      ]
    },
    {
      "cell_type": "code",
      "source": [
        "### Lets Do the prediction and check performance metrics\n",
        "train_predict=model.predict(X_train)\n",
        "test_predict=model.predict(X_test)"
      ],
      "metadata": {
        "colab": {
          "base_uri": "https://localhost:8080/"
        },
        "id": "LpkVPiWMRuFJ",
        "outputId": "d5a02208-b66d-414d-8a5c-0b89d6c3d4a9"
      },
      "execution_count": null,
      "outputs": [
        {
          "output_type": "stream",
          "name": "stdout",
          "text": [
            "23/23 [==============================] - 1s 6ms/step\n",
            "11/11 [==============================] - 0s 7ms/step\n"
          ]
        }
      ]
    },
    {
      "cell_type": "code",
      "source": [
        "##Transformback to original form\n",
        "train_predict=scaler.inverse_transform(train_predict) #as we did minmax scaler earlier\n",
        "test_predict=scaler.inverse_transform(test_predict)"
      ],
      "metadata": {
        "id": "qGld-Y5eRwSG"
      },
      "execution_count": null,
      "outputs": []
    },
    {
      "cell_type": "code",
      "source": [
        "### Calculate RMSE performance metrics\n",
        "import math\n",
        "from sklearn.metrics import mean_squared_error\n",
        "math.sqrt(mean_squared_error(y_train,train_predict))"
      ],
      "metadata": {
        "colab": {
          "base_uri": "https://localhost:8080/"
        },
        "id": "dgYPF9PYSJE5",
        "outputId": "bb63c7bf-4eb4-41c8-e05c-2de7b090fcbf"
      },
      "execution_count": null,
      "outputs": [
        {
          "output_type": "execute_result",
          "data": {
            "text/plain": [
              "641.511005762275"
            ]
          },
          "metadata": {},
          "execution_count": 34
        }
      ]
    },
    {
      "cell_type": "code",
      "source": [
        "### Test Data RMSE\n",
        "math.sqrt(mean_squared_error(ytest,test_predict))"
      ],
      "metadata": {
        "colab": {
          "base_uri": "https://localhost:8080/"
        },
        "id": "mO-R9w87SMZ9",
        "outputId": "2f7224ee-3b1e-40cf-f503-fd34a5def2e9"
      },
      "execution_count": null,
      "outputs": [
        {
          "output_type": "execute_result",
          "data": {
            "text/plain": [
              "823.3454514215284"
            ]
          },
          "metadata": {},
          "execution_count": 35
        }
      ]
    },
    {
      "cell_type": "code",
      "source": [
        "### Plotting \n",
        "# shift train predictions for plotting\n",
        "look_back=100\n",
        "trainPredictPlot = numpy.empty_like(df1)\n",
        "trainPredictPlot[:, :] = np.nan\n",
        "trainPredictPlot[look_back:len(train_predict)+look_back, :] = train_predict\n",
        "# shift test predictions for plotting\n",
        "testPredictPlot = numpy.empty_like(df1)\n",
        "testPredictPlot[:, :] = numpy.nan\n",
        "testPredictPlot[len(train_predict)+(look_back*2)+1:len(df1)-1, :] = test_predict\n",
        "# plot baseline and predictions\n",
        "plt.plot(scaler.inverse_transform(df1))\n",
        "plt.plot(trainPredictPlot)\n",
        "plt.plot(testPredictPlot)\n",
        "plt.show()"
      ],
      "metadata": {
        "colab": {
          "base_uri": "https://localhost:8080/",
          "height": 265
        },
        "id": "WKDpznGxSRFO",
        "outputId": "e5af1b5f-4014-421f-de2c-ec60f564bb74"
      },
      "execution_count": null,
      "outputs": [
        {
          "output_type": "display_data",
          "data": {
            "text/plain": [
              "<Figure size 432x288 with 1 Axes>"
            ],
            "image/png": "[encoded data removed]"
          },
          "metadata": {
            "needs_background": "light"
          }
        }
      ]
    },
    {
      "cell_type": "code",
      "source": [
        "len(test_data)"
      ],
      "metadata": {
        "colab": {
          "base_uri": "https://localhost:8080/"
        },
        "id": "9oOJ_ZMkSk5u",
        "outputId": "54eec0e0-ac42-4643-98a9-b2ccea0454da"
      },
      "execution_count": null,
      "outputs": [
        {
          "output_type": "execute_result",
          "data": {
            "text/plain": [
              "440"
            ]
          },
          "metadata": {},
          "execution_count": 37
        }
      ]
    },
    {
      "cell_type": "code",
      "source": [
        "test_data.shape"
      ],
      "metadata": {
        "colab": {
          "base_uri": "https://localhost:8080/"
        },
        "id": "N3ech_goT0Hb",
        "outputId": "b85ba148-0328-478c-96b5-e5f6083c60d9"
      },
      "execution_count": null,
      "outputs": [
        {
          "output_type": "execute_result",
          "data": {
            "text/plain": [
              "(440, 1)"
            ]
          },
          "metadata": {},
          "execution_count": 38
        }
      ]
    },
    {
      "cell_type": "code",
      "source": [
        "x_input=test_data[340:].reshape(1,-1)\n",
        "x_input.shape"
      ],
      "metadata": {
        "colab": {
          "base_uri": "https://localhost:8080/"
        },
        "id": "CChi2NZdTNsb",
        "outputId": "4ae2387b-5278-4c3c-c612-c84f6b9c58a3"
      },
      "execution_count": null,
      "outputs": [
        {
          "output_type": "execute_result",
          "data": {
            "text/plain": [
              "(1, 100)"
            ]
          },
          "metadata": {},
          "execution_count": 39
        }
      ]
    },
    {
      "cell_type": "code",
      "source": [
        "temp_input=list(x_input)\n",
        "temp_input=temp_input[0].tolist()"
      ],
      "metadata": {
        "id": "ZJbAkFVvTPNd"
      },
      "execution_count": null,
      "outputs": []
    },
    {
      "cell_type": "code",
      "source": [
        " # demonstrate prediction for next 10 days\n",
        "from numpy import array\n",
        "\n",
        "lst_output=[]\n",
        "n_steps=100\n",
        "i=0\n",
        "while(i<30):\n",
        "    \n",
        "    if(len(temp_input)>100):\n",
        "        #print(temp_input)\n",
        "        x_input=np.array(temp_input[1:])\n",
        "        print(\"{} day input {}\".format(i,x_input))\n",
        "        x_input=x_input.reshape(1,-1)\n",
        "        x_input = x_input.reshape((1, n_steps, 1))\n",
        "        #print(x_input)\n",
        "        yhat = model.predict(x_input, verbose=0)\n",
        "        print(\"{} day output {}\".format(i,yhat))\n",
        "        temp_input.extend(yhat[0].tolist())\n",
        "        temp_input=temp_input[1:]\n",
        "        #print(temp_input)\n",
        "        lst_output.extend(yhat.tolist())\n",
        "        i=i+1\n",
        "    else:\n",
        "        x_input = x_input.reshape((1, n_steps,1))\n",
        "        yhat = model.predict(x_input, verbose=0)\n",
        "        print(yhat[0])\n",
        "        temp_input.extend(yhat[0].tolist())\n",
        "        print(len(temp_input))\n",
        "        lst_output.extend(yhat.tolist())\n",
        "        i=i+1\n",
        "    \n",
        "\n",
        "print(lst_output)"
      ],
      "metadata": {
        "colab": {
          "base_uri": "https://localhost:8080/"
        },
        "id": "cw4hQeIQTXmn",
        "outputId": "77e1b23f-dcf6-4987-893c-942747602187"
      },
      "execution_count": null,
      "outputs": [
        {
          "output_type": "stream",
          "name": "stdout",
          "text": [
            "[0.0205153]\n",
            "101\n",
            "1 day input [0.07608476 0.07806069 0.08241616 0.0850257  0.08991622 0.0921409\n",
            " 0.0863727  0.09129139 0.09182644 0.0916387  0.09432333 0.09416375\n",
            " 0.09044188 0.08471124 0.07848779 0.07880694 0.08205947 0.08434515\n",
            " 0.07514608 0.07375683 0.06303241 0.06633656 0.06228616 0.06102832\n",
            " 0.05396006 0.05390843 0.05087649 0.0512238  0.05332645 0.04547439\n",
            " 0.05221411 0.05260836 0.05347664 0.04654918 0.04990965 0.04841246\n",
            " 0.05365264 0.05469692 0.05490813 0.05651796 0.05605801 0.05618943\n",
            " 0.0501631  0.05031798 0.04663835 0.0417619  0.03904912 0.03261446\n",
            " 0.0387769  0.04124094 0.03888485 0.04051346 0.03699341 0.03523338\n",
            " 0.03383475 0.02805247 0.02900993 0.03524746 0.03508788 0.03511604\n",
            " 0.03413512 0.04064487 0.04064487 0.04071997 0.03489545 0.03366109\n",
            " 0.0309483  0.0306667  0.0332997  0.02802901 0.02480464 0.02285687\n",
            " 0.0232652  0.01977331 0.01960435 0.01393941 0.01383146 0.00809612\n",
            " 0.00706357 0.00046934 0.00216366 0.00643935 0.00707765 0.\n",
            " 0.00260015 0.00105132 0.00232793 0.0054772  0.00504541 0.00709643\n",
            " 0.007256   0.00671157 0.01097787 0.00970596 0.00895032 0.0118837\n",
            " 0.01673198 0.01679769 0.01705113 0.0205153 ]\n",
            "1 day output [[0.0221179]]\n",
            "2 day input [0.07806069 0.08241616 0.0850257  0.08991622 0.0921409  0.0863727\n",
            " 0.09129139 0.09182644 0.0916387  0.09432333 0.09416375 0.09044188\n",
            " 0.08471124 0.07848779 0.07880694 0.08205947 0.08434515 0.07514608\n",
            " 0.07375683 0.06303241 0.06633656 0.06228616 0.06102832 0.05396006\n",
            " 0.05390843 0.05087649 0.0512238  0.05332645 0.04547439 0.05221411\n",
            " 0.05260836 0.05347664 0.04654918 0.04990965 0.04841246 0.05365264\n",
            " 0.05469692 0.05490813 0.05651796 0.05605801 0.05618943 0.0501631\n",
            " 0.05031798 0.04663835 0.0417619  0.03904912 0.03261446 0.0387769\n",
            " 0.04124094 0.03888485 0.04051346 0.03699341 0.03523338 0.03383475\n",
            " 0.02805247 0.02900993 0.03524746 0.03508788 0.03511604 0.03413512\n",
            " 0.04064487 0.04064487 0.04071997 0.03489545 0.03366109 0.0309483\n",
            " 0.0306667  0.0332997  0.02802901 0.02480464 0.02285687 0.0232652\n",
            " 0.01977331 0.01960435 0.01393941 0.01383146 0.00809612 0.00706357\n",
            " 0.00046934 0.00216366 0.00643935 0.00707765 0.         0.00260015\n",
            " 0.00105132 0.00232793 0.0054772  0.00504541 0.00709643 0.007256\n",
            " 0.00671157 0.01097787 0.00970596 0.00895032 0.0118837  0.01673198\n",
            " 0.01679769 0.01705113 0.0205153  0.0221179 ]\n",
            "2 day output [[0.0238205]]\n",
            "3 day input [0.08241616 0.0850257  0.08991622 0.0921409  0.0863727  0.09129139\n",
            " 0.09182644 0.0916387  0.09432333 0.09416375 0.09044188 0.08471124\n",
            " 0.07848779 0.07880694 0.08205947 0.08434515 0.07514608 0.07375683\n",
            " 0.06303241 0.06633656 0.06228616 0.06102832 0.05396006 0.05390843\n",
            " 0.05087649 0.0512238  0.05332645 0.04547439 0.05221411 0.05260836\n",
            " 0.05347664 0.04654918 0.04990965 0.04841246 0.05365264 0.05469692\n",
            " 0.05490813 0.05651796 0.05605801 0.05618943 0.0501631  0.05031798\n",
            " 0.04663835 0.0417619  0.03904912 0.03261446 0.0387769  0.04124094\n",
            " 0.03888485 0.04051346 0.03699341 0.03523338 0.03383475 0.02805247\n",
            " 0.02900993 0.03524746 0.03508788 0.03511604 0.03413512 0.04064487\n",
            " 0.04064487 0.04071997 0.03489545 0.03366109 0.0309483  0.0306667\n",
            " 0.0332997  0.02802901 0.02480464 0.02285687 0.0232652  0.01977331\n",
            " 0.01960435 0.01393941 0.01383146 0.00809612 0.00706357 0.00046934\n",
            " 0.00216366 0.00643935 0.00707765 0.         0.00260015 0.00105132\n",
            " 0.00232793 0.0054772  0.00504541 0.00709643 0.007256   0.00671157\n",
            " 0.01097787 0.00970596 0.00895032 0.0118837  0.01673198 0.01679769\n",
            " 0.01705113 0.0205153  0.0221179  0.0238205 ]\n",
            "3 day output [[0.02558403]]\n",
            "4 day input [0.0850257  0.08991622 0.0921409  0.0863727  0.09129139 0.09182644\n",
            " 0.0916387  0.09432333 0.09416375 0.09044188 0.08471124 0.07848779\n",
            " 0.07880694 0.08205947 0.08434515 0.07514608 0.07375683 0.06303241\n",
            " 0.06633656 0.06228616 0.06102832 0.05396006 0.05390843 0.05087649\n",
            " 0.0512238  0.05332645 0.04547439 0.05221411 0.05260836 0.05347664\n",
            " 0.04654918 0.04990965 0.04841246 0.05365264 0.05469692 0.05490813\n",
            " 0.05651796 0.05605801 0.05618943 0.0501631  0.05031798 0.04663835\n",
            " 0.0417619  0.03904912 0.03261446 0.0387769  0.04124094 0.03888485\n",
            " 0.04051346 0.03699341 0.03523338 0.03383475 0.02805247 0.02900993\n",
            " 0.03524746 0.03508788 0.03511604 0.03413512 0.04064487 0.04064487\n",
            " 0.04071997 0.03489545 0.03366109 0.0309483  0.0306667  0.0332997\n",
            " 0.02802901 0.02480464 0.02285687 0.0232652  0.01977331 0.01960435\n",
            " 0.01393941 0.01383146 0.00809612 0.00706357 0.00046934 0.00216366\n",
            " 0.00643935 0.00707765 0.         0.00260015 0.00105132 0.00232793\n",
            " 0.0054772  0.00504541 0.00709643 0.007256   0.00671157 0.01097787\n",
            " 0.00970596 0.00895032 0.0118837  0.01673198 0.01679769 0.01705113\n",
            " 0.0205153  0.0221179  0.0238205  0.02558403]\n",
            "4 day output [[0.02737503]]\n",
            "5 day input [0.08991622 0.0921409  0.0863727  0.09129139 0.09182644 0.0916387\n",
            " 0.09432333 0.09416375 0.09044188 0.08471124 0.07848779 0.07880694\n",
            " 0.08205947 0.08434515 0.07514608 0.07375683 0.06303241 0.06633656\n",
            " 0.06228616 0.06102832 0.05396006 0.05390843 0.05087649 0.0512238\n",
            " 0.05332645 0.04547439 0.05221411 0.05260836 0.05347664 0.04654918\n",
            " 0.04990965 0.04841246 0.05365264 0.05469692 0.05490813 0.05651796\n",
            " 0.05605801 0.05618943 0.0501631  0.05031798 0.04663835 0.0417619\n",
            " 0.03904912 0.03261446 0.0387769  0.04124094 0.03888485 0.04051346\n",
            " 0.03699341 0.03523338 0.03383475 0.02805247 0.02900993 0.03524746\n",
            " 0.03508788 0.03511604 0.03413512 0.04064487 0.04064487 0.04071997\n",
            " 0.03489545 0.03366109 0.0309483  0.0306667  0.0332997  0.02802901\n",
            " 0.02480464 0.02285687 0.0232652  0.01977331 0.01960435 0.01393941\n",
            " 0.01383146 0.00809612 0.00706357 0.00046934 0.00216366 0.00643935\n",
            " 0.00707765 0.         0.00260015 0.00105132 0.00232793 0.0054772\n",
            " 0.00504541 0.00709643 0.007256   0.00671157 0.01097787 0.00970596\n",
            " 0.00895032 0.0118837  0.01673198 0.01679769 0.01705113 0.0205153\n",
            " 0.0221179  0.0238205  0.02558403 0.02737503]\n",
            "5 day output [[0.0291721]]\n",
            "6 day input [0.0921409  0.0863727  0.09129139 0.09182644 0.0916387  0.09432333\n",
            " 0.09416375 0.09044188 0.08471124 0.07848779 0.07880694 0.08205947\n",
            " 0.08434515 0.07514608 0.07375683 0.06303241 0.06633656 0.06228616\n",
            " 0.06102832 0.05396006 0.05390843 0.05087649 0.0512238  0.05332645\n",
            " 0.04547439 0.05221411 0.05260836 0.05347664 0.04654918 0.04990965\n",
            " 0.04841246 0.05365264 0.05469692 0.05490813 0.05651796 0.05605801\n",
            " 0.05618943 0.0501631  0.05031798 0.04663835 0.0417619  0.03904912\n",
            " 0.03261446 0.0387769  0.04124094 0.03888485 0.04051346 0.03699341\n",
            " 0.03523338 0.03383475 0.02805247 0.02900993 0.03524746 0.03508788\n",
            " 0.03511604 0.03413512 0.04064487 0.04064487 0.04071997 0.03489545\n",
            " 0.03366109 0.0309483  0.0306667  0.0332997  0.02802901 0.02480464\n",
            " 0.02285687 0.0232652  0.01977331 0.01960435 0.01393941 0.01383146\n",
            " 0.00809612 0.00706357 0.00046934 0.00216366 0.00643935 0.00707765\n",
            " 0.         0.00260015 0.00105132 0.00232793 0.0054772  0.00504541\n",
            " 0.00709643 0.007256   0.00671157 0.01097787 0.00970596 0.00895032\n",
            " 0.0118837  0.01673198 0.01679769 0.01705113 0.0205153  0.0221179\n",
            " 0.0238205  0.02558403 0.02737503 0.0291721 ]\n",
            "6 day output [[0.03096411]]\n",
            "7 day input [0.0863727  0.09129139 0.09182644 0.0916387  0.09432333 0.09416375\n",
            " 0.09044188 0.08471124 0.07848779 0.07880694 0.08205947 0.08434515\n",
            " 0.07514608 0.07375683 0.06303241 0.06633656 0.06228616 0.06102832\n",
            " 0.05396006 0.05390843 0.05087649 0.0512238  0.05332645 0.04547439\n",
            " 0.05221411 0.05260836 0.05347664 0.04654918 0.04990965 0.04841246\n",
            " 0.05365264 0.05469692 0.05490813 0.05651796 0.05605801 0.05618943\n",
            " 0.0501631  0.05031798 0.04663835 0.0417619  0.03904912 0.03261446\n",
            " 0.0387769  0.04124094 0.03888485 0.04051346 0.03699341 0.03523338\n",
            " 0.03383475 0.02805247 0.02900993 0.03524746 0.03508788 0.03511604\n",
            " 0.03413512 0.04064487 0.04064487 0.04071997 0.03489545 0.03366109\n",
            " 0.0309483  0.0306667  0.0332997  0.02802901 0.02480464 0.02285687\n",
            " 0.0232652  0.01977331 0.01960435 0.01393941 0.01383146 0.00809612\n",
            " 0.00706357 0.00046934 0.00216366 0.00643935 0.00707765 0.\n",
            " 0.00260015 0.00105132 0.00232793 0.0054772  0.00504541 0.00709643\n",
            " 0.007256   0.00671157 0.01097787 0.00970596 0.00895032 0.0118837\n",
            " 0.01673198 0.01679769 0.01705113 0.0205153  0.0221179  0.0238205\n",
            " 0.02558403 0.02737503 0.0291721  0.03096411]\n",
            "7 day output [[0.03274643]]\n",
            "8 day input [0.09129139 0.09182644 0.0916387  0.09432333 0.09416375 0.09044188\n",
            " 0.08471124 0.07848779 0.07880694 0.08205947 0.08434515 0.07514608\n",
            " 0.07375683 0.06303241 0.06633656 0.06228616 0.06102832 0.05396006\n",
            " 0.05390843 0.05087649 0.0512238  0.05332645 0.04547439 0.05221411\n",
            " 0.05260836 0.05347664 0.04654918 0.04990965 0.04841246 0.05365264\n",
            " 0.05469692 0.05490813 0.05651796 0.05605801 0.05618943 0.0501631\n",
            " 0.05031798 0.04663835 0.0417619  0.03904912 0.03261446 0.0387769\n",
            " 0.04124094 0.03888485 0.04051346 0.03699341 0.03523338 0.03383475\n",
            " 0.02805247 0.02900993 0.03524746 0.03508788 0.03511604 0.03413512\n",
            " 0.04064487 0.04064487 0.04071997 0.03489545 0.03366109 0.0309483\n",
            " 0.0306667  0.0332997  0.02802901 0.02480464 0.02285687 0.0232652\n",
            " 0.01977331 0.01960435 0.01393941 0.01383146 0.00809612 0.00706357\n",
            " 0.00046934 0.00216366 0.00643935 0.00707765 0.         0.00260015\n",
            " 0.00105132 0.00232793 0.0054772  0.00504541 0.00709643 0.007256\n",
            " 0.00671157 0.01097787 0.00970596 0.00895032 0.0118837  0.01673198\n",
            " 0.01679769 0.01705113 0.0205153  0.0221179  0.0238205  0.02558403\n",
            " 0.02737503 0.0291721  0.03096411 0.03274643]\n",
            "8 day output [[0.03451779]]\n",
            "9 day input [0.09182644 0.0916387  0.09432333 0.09416375 0.09044188 0.08471124\n",
            " 0.07848779 0.07880694 0.08205947 0.08434515 0.07514608 0.07375683\n",
            " 0.06303241 0.06633656 0.06228616 0.06102832 0.05396006 0.05390843\n",
            " 0.05087649 0.0512238  0.05332645 0.04547439 0.05221411 0.05260836\n",
            " 0.05347664 0.04654918 0.04990965 0.04841246 0.05365264 0.05469692\n",
            " 0.05490813 0.05651796 0.05605801 0.05618943 0.0501631  0.05031798\n",
            " 0.04663835 0.0417619  0.03904912 0.03261446 0.0387769  0.04124094\n",
            " 0.03888485 0.04051346 0.03699341 0.03523338 0.03383475 0.02805247\n",
            " 0.02900993 0.03524746 0.03508788 0.03511604 0.03413512 0.04064487\n",
            " 0.04064487 0.04071997 0.03489545 0.03366109 0.0309483  0.0306667\n",
            " 0.0332997  0.02802901 0.02480464 0.02285687 0.0232652  0.01977331\n",
            " 0.01960435 0.01393941 0.01383146 0.00809612 0.00706357 0.00046934\n",
            " 0.00216366 0.00643935 0.00707765 0.         0.00260015 0.00105132\n",
            " 0.00232793 0.0054772  0.00504541 0.00709643 0.007256   0.00671157\n",
            " 0.01097787 0.00970596 0.00895032 0.0118837  0.01673198 0.01679769\n",
            " 0.01705113 0.0205153  0.0221179  0.0238205  0.02558403 0.02737503\n",
            " 0.0291721  0.03096411 0.03274643 0.03451779]\n",
            "9 day output [[0.03627824]]\n",
            "10 day input [0.0916387  0.09432333 0.09416375 0.09044188 0.08471124 0.07848779\n",
            " 0.07880694 0.08205947 0.08434515 0.07514608 0.07375683 0.06303241\n",
            " 0.06633656 0.06228616 0.06102832 0.05396006 0.05390843 0.05087649\n",
            " 0.0512238  0.05332645 0.04547439 0.05221411 0.05260836 0.05347664\n",
            " 0.04654918 0.04990965 0.04841246 0.05365264 0.05469692 0.05490813\n",
            " 0.05651796 0.05605801 0.05618943 0.0501631  0.05031798 0.04663835\n",
            " 0.0417619  0.03904912 0.03261446 0.0387769  0.04124094 0.03888485\n",
            " 0.04051346 0.03699341 0.03523338 0.03383475 0.02805247 0.02900993\n",
            " 0.03524746 0.03508788 0.03511604 0.03413512 0.04064487 0.04064487\n",
            " 0.04071997 0.03489545 0.03366109 0.0309483  0.0306667  0.0332997\n",
            " 0.02802901 0.02480464 0.02285687 0.0232652  0.01977331 0.01960435\n",
            " 0.01393941 0.01383146 0.00809612 0.00706357 0.00046934 0.00216366\n",
            " 0.00643935 0.00707765 0.         0.00260015 0.00105132 0.00232793\n",
            " 0.0054772  0.00504541 0.00709643 0.007256   0.00671157 0.01097787\n",
            " 0.00970596 0.00895032 0.0118837  0.01673198 0.01679769 0.01705113\n",
            " 0.0205153  0.0221179  0.0238205  0.02558403 0.02737503 0.0291721\n",
            " 0.03096411 0.03274643 0.03451779 0.03627824]\n",
            "10 day output [[0.03802811]]\n",
            "11 day input [0.09432333 0.09416375 0.09044188 0.08471124 0.07848779 0.07880694\n",
            " 0.08205947 0.08434515 0.07514608 0.07375683 0.06303241 0.06633656\n",
            " 0.06228616 0.06102832 0.05396006 0.05390843 0.05087649 0.0512238\n",
            " 0.05332645 0.04547439 0.05221411 0.05260836 0.05347664 0.04654918\n",
            " 0.04990965 0.04841246 0.05365264 0.05469692 0.05490813 0.05651796\n",
            " 0.05605801 0.05618943 0.0501631  0.05031798 0.04663835 0.0417619\n",
            " 0.03904912 0.03261446 0.0387769  0.04124094 0.03888485 0.04051346\n",
            " 0.03699341 0.03523338 0.03383475 0.02805247 0.02900993 0.03524746\n",
            " 0.03508788 0.03511604 0.03413512 0.04064487 0.04064487 0.04071997\n",
            " 0.03489545 0.03366109 0.0309483  0.0306667  0.0332997  0.02802901\n",
            " 0.02480464 0.02285687 0.0232652  0.01977331 0.01960435 0.01393941\n",
            " 0.01383146 0.00809612 0.00706357 0.00046934 0.00216366 0.00643935\n",
            " 0.00707765 0.         0.00260015 0.00105132 0.00232793 0.0054772\n",
            " 0.00504541 0.00709643 0.007256   0.00671157 0.01097787 0.00970596\n",
            " 0.00895032 0.0118837  0.01673198 0.01679769 0.01705113 0.0205153\n",
            " 0.0221179  0.0238205  0.02558403 0.02737503 0.0291721  0.03096411\n",
            " 0.03274643 0.03451779 0.03627824 0.03802811]\n",
            "11 day output [[0.03976763]]\n",
            "12 day input [0.09416375 0.09044188 0.08471124 0.07848779 0.07880694 0.08205947\n",
            " 0.08434515 0.07514608 0.07375683 0.06303241 0.06633656 0.06228616\n",
            " 0.06102832 0.05396006 0.05390843 0.05087649 0.0512238  0.05332645\n",
            " 0.04547439 0.05221411 0.05260836 0.05347664 0.04654918 0.04990965\n",
            " 0.04841246 0.05365264 0.05469692 0.05490813 0.05651796 0.05605801\n",
            " 0.05618943 0.0501631  0.05031798 0.04663835 0.0417619  0.03904912\n",
            " 0.03261446 0.0387769  0.04124094 0.03888485 0.04051346 0.03699341\n",
            " 0.03523338 0.03383475 0.02805247 0.02900993 0.03524746 0.03508788\n",
            " 0.03511604 0.03413512 0.04064487 0.04064487 0.04071997 0.03489545\n",
            " 0.03366109 0.0309483  0.0306667  0.0332997  0.02802901 0.02480464\n",
            " 0.02285687 0.0232652  0.01977331 0.01960435 0.01393941 0.01383146\n",
            " 0.00809612 0.00706357 0.00046934 0.00216366 0.00643935 0.00707765\n",
            " 0.         0.00260015 0.00105132 0.00232793 0.0054772  0.00504541\n",
            " 0.00709643 0.007256   0.00671157 0.01097787 0.00970596 0.00895032\n",
            " 0.0118837  0.01673198 0.01679769 0.01705113 0.0205153  0.0221179\n",
            " 0.0238205  0.02558403 0.02737503 0.0291721  0.03096411 0.03274643\n",
            " 0.03451779 0.03627824 0.03802811 0.03976763]\n",
            "12 day output [[0.04149684]]\n",
            "13 day input [0.09044188 0.08471124 0.07848779 0.07880694 0.08205947 0.08434515\n",
            " 0.07514608 0.07375683 0.06303241 0.06633656 0.06228616 0.06102832\n",
            " 0.05396006 0.05390843 0.05087649 0.0512238  0.05332645 0.04547439\n",
            " 0.05221411 0.05260836 0.05347664 0.04654918 0.04990965 0.04841246\n",
            " 0.05365264 0.05469692 0.05490813 0.05651796 0.05605801 0.05618943\n",
            " 0.0501631  0.05031798 0.04663835 0.0417619  0.03904912 0.03261446\n",
            " 0.0387769  0.04124094 0.03888485 0.04051346 0.03699341 0.03523338\n",
            " 0.03383475 0.02805247 0.02900993 0.03524746 0.03508788 0.03511604\n",
            " 0.03413512 0.04064487 0.04064487 0.04071997 0.03489545 0.03366109\n",
            " 0.0309483  0.0306667  0.0332997  0.02802901 0.02480464 0.02285687\n",
            " 0.0232652  0.01977331 0.01960435 0.01393941 0.01383146 0.00809612\n",
            " 0.00706357 0.00046934 0.00216366 0.00643935 0.00707765 0.\n",
            " 0.00260015 0.00105132 0.00232793 0.0054772  0.00504541 0.00709643\n",
            " 0.007256   0.00671157 0.01097787 0.00970596 0.00895032 0.0118837\n",
            " 0.01673198 0.01679769 0.01705113 0.0205153  0.0221179  0.0238205\n",
            " 0.02558403 0.02737503 0.0291721  0.03096411 0.03274643 0.03451779\n",
            " 0.03627824 0.03802811 0.03976763 0.04149684]\n",
            "13 day output [[0.04321564]]\n",
            "14 day input [0.08471124 0.07848779 0.07880694 0.08205947 0.08434515 0.07514608\n",
            " 0.07375683 0.06303241 0.06633656 0.06228616 0.06102832 0.05396006\n",
            " 0.05390843 0.05087649 0.0512238  0.05332645 0.04547439 0.05221411\n",
            " 0.05260836 0.05347664 0.04654918 0.04990965 0.04841246 0.05365264\n",
            " 0.05469692 0.05490813 0.05651796 0.05605801 0.05618943 0.0501631\n",
            " 0.05031798 0.04663835 0.0417619  0.03904912 0.03261446 0.0387769\n",
            " 0.04124094 0.03888485 0.04051346 0.03699341 0.03523338 0.03383475\n",
            " 0.02805247 0.02900993 0.03524746 0.03508788 0.03511604 0.03413512\n",
            " 0.04064487 0.04064487 0.04071997 0.03489545 0.03366109 0.0309483\n",
            " 0.0306667  0.0332997  0.02802901 0.02480464 0.02285687 0.0232652\n",
            " 0.01977331 0.01960435 0.01393941 0.01383146 0.00809612 0.00706357\n",
            " 0.00046934 0.00216366 0.00643935 0.00707765 0.         0.00260015\n",
            " 0.00105132 0.00232793 0.0054772  0.00504541 0.00709643 0.007256\n",
            " 0.00671157 0.01097787 0.00970596 0.00895032 0.0118837  0.01673198\n",
            " 0.01679769 0.01705113 0.0205153  0.0221179  0.0238205  0.02558403\n",
            " 0.02737503 0.0291721  0.03096411 0.03274643 0.03451779 0.03627824\n",
            " 0.03802811 0.03976763 0.04149684 0.04321564]\n",
            "14 day output [[0.04492386]]\n",
            "15 day input [0.07848779 0.07880694 0.08205947 0.08434515 0.07514608 0.07375683\n",
            " 0.06303241 0.06633656 0.06228616 0.06102832 0.05396006 0.05390843\n",
            " 0.05087649 0.0512238  0.05332645 0.04547439 0.05221411 0.05260836\n",
            " 0.05347664 0.04654918 0.04990965 0.04841246 0.05365264 0.05469692\n",
            " 0.05490813 0.05651796 0.05605801 0.05618943 0.0501631  0.05031798\n",
            " 0.04663835 0.0417619  0.03904912 0.03261446 0.0387769  0.04124094\n",
            " 0.03888485 0.04051346 0.03699341 0.03523338 0.03383475 0.02805247\n",
            " 0.02900993 0.03524746 0.03508788 0.03511604 0.03413512 0.04064487\n",
            " 0.04064487 0.04071997 0.03489545 0.03366109 0.0309483  0.0306667\n",
            " 0.0332997  0.02802901 0.02480464 0.02285687 0.0232652  0.01977331\n",
            " 0.01960435 0.01393941 0.01383146 0.00809612 0.00706357 0.00046934\n",
            " 0.00216366 0.00643935 0.00707765 0.         0.00260015 0.00105132\n",
            " 0.00232793 0.0054772  0.00504541 0.00709643 0.007256   0.00671157\n",
            " 0.01097787 0.00970596 0.00895032 0.0118837  0.01673198 0.01679769\n",
            " 0.01705113 0.0205153  0.0221179  0.0238205  0.02558403 0.02737503\n",
            " 0.0291721  0.03096411 0.03274643 0.03451779 0.03627824 0.03802811\n",
            " 0.03976763 0.04149684 0.04321564 0.04492386]\n",
            "15 day output [[0.04662138]]\n",
            "16 day input [0.07880694 0.08205947 0.08434515 0.07514608 0.07375683 0.06303241\n",
            " 0.06633656 0.06228616 0.06102832 0.05396006 0.05390843 0.05087649\n",
            " 0.0512238  0.05332645 0.04547439 0.05221411 0.05260836 0.05347664\n",
            " 0.04654918 0.04990965 0.04841246 0.05365264 0.05469692 0.05490813\n",
            " 0.05651796 0.05605801 0.05618943 0.0501631  0.05031798 0.04663835\n",
            " 0.0417619  0.03904912 0.03261446 0.0387769  0.04124094 0.03888485\n",
            " 0.04051346 0.03699341 0.03523338 0.03383475 0.02805247 0.02900993\n",
            " 0.03524746 0.03508788 0.03511604 0.03413512 0.04064487 0.04064487\n",
            " 0.04071997 0.03489545 0.03366109 0.0309483  0.0306667  0.0332997\n",
            " 0.02802901 0.02480464 0.02285687 0.0232652  0.01977331 0.01960435\n",
            " 0.01393941 0.01383146 0.00809612 0.00706357 0.00046934 0.00216366\n",
            " 0.00643935 0.00707765 0.         0.00260015 0.00105132 0.00232793\n",
            " 0.0054772  0.00504541 0.00709643 0.007256   0.00671157 0.01097787\n",
            " 0.00970596 0.00895032 0.0118837  0.01673198 0.01679769 0.01705113\n",
            " 0.0205153  0.0221179  0.0238205  0.02558403 0.02737503 0.0291721\n",
            " 0.03096411 0.03274643 0.03451779 0.03627824 0.03802811 0.03976763\n",
            " 0.04149684 0.04321564 0.04492386 0.04662138]\n",
            "16 day output [[0.04830813]]\n",
            "17 day input [0.08205947 0.08434515 0.07514608 0.07375683 0.06303241 0.06633656\n",
            " 0.06228616 0.06102832 0.05396006 0.05390843 0.05087649 0.0512238\n",
            " 0.05332645 0.04547439 0.05221411 0.05260836 0.05347664 0.04654918\n",
            " 0.04990965 0.04841246 0.05365264 0.05469692 0.05490813 0.05651796\n",
            " 0.05605801 0.05618943 0.0501631  0.05031798 0.04663835 0.0417619\n",
            " 0.03904912 0.03261446 0.0387769  0.04124094 0.03888485 0.04051346\n",
            " 0.03699341 0.03523338 0.03383475 0.02805247 0.02900993 0.03524746\n",
            " 0.03508788 0.03511604 0.03413512 0.04064487 0.04064487 0.04071997\n",
            " 0.03489545 0.03366109 0.0309483  0.0306667  0.0332997  0.02802901\n",
            " 0.02480464 0.02285687 0.0232652  0.01977331 0.01960435 0.01393941\n",
            " 0.01383146 0.00809612 0.00706357 0.00046934 0.00216366 0.00643935\n",
            " 0.00707765 0.         0.00260015 0.00105132 0.00232793 0.0054772\n",
            " 0.00504541 0.00709643 0.007256   0.00671157 0.01097787 0.00970596\n",
            " 0.00895032 0.0118837  0.01673198 0.01679769 0.01705113 0.0205153\n",
            " 0.0221179  0.0238205  0.02558403 0.02737503 0.0291721  0.03096411\n",
            " 0.03274643 0.03451779 0.03627824 0.03802811 0.03976763 0.04149684\n",
            " 0.04321564 0.04492386 0.04662138 0.04830813]\n",
            "17 day output [[0.04998413]]\n",
            "18 day input [0.08434515 0.07514608 0.07375683 0.06303241 0.06633656 0.06228616\n",
            " 0.06102832 0.05396006 0.05390843 0.05087649 0.0512238  0.05332645\n",
            " 0.04547439 0.05221411 0.05260836 0.05347664 0.04654918 0.04990965\n",
            " 0.04841246 0.05365264 0.05469692 0.05490813 0.05651796 0.05605801\n",
            " 0.05618943 0.0501631  0.05031798 0.04663835 0.0417619  0.03904912\n",
            " 0.03261446 0.0387769  0.04124094 0.03888485 0.04051346 0.03699341\n",
            " 0.03523338 0.03383475 0.02805247 0.02900993 0.03524746 0.03508788\n",
            " 0.03511604 0.03413512 0.04064487 0.04064487 0.04071997 0.03489545\n",
            " 0.03366109 0.0309483  0.0306667  0.0332997  0.02802901 0.02480464\n",
            " 0.02285687 0.0232652  0.01977331 0.01960435 0.01393941 0.01383146\n",
            " 0.00809612 0.00706357 0.00046934 0.00216366 0.00643935 0.00707765\n",
            " 0.         0.00260015 0.00105132 0.00232793 0.0054772  0.00504541\n",
            " 0.00709643 0.007256   0.00671157 0.01097787 0.00970596 0.00895032\n",
            " 0.0118837  0.01673198 0.01679769 0.01705113 0.0205153  0.0221179\n",
            " 0.0238205  0.02558403 0.02737503 0.0291721  0.03096411 0.03274643\n",
            " 0.03451779 0.03627824 0.03802811 0.03976763 0.04149684 0.04321564\n",
            " 0.04492386 0.04662138 0.04830813 0.04998413]\n",
            "18 day output [[0.05164959]]\n",
            "19 day input [0.07514608 0.07375683 0.06303241 0.06633656 0.06228616 0.06102832\n",
            " 0.05396006 0.05390843 0.05087649 0.0512238  0.05332645 0.04547439\n",
            " 0.05221411 0.05260836 0.05347664 0.04654918 0.04990965 0.04841246\n",
            " 0.05365264 0.05469692 0.05490813 0.05651796 0.05605801 0.05618943\n",
            " 0.0501631  0.05031798 0.04663835 0.0417619  0.03904912 0.03261446\n",
            " 0.0387769  0.04124094 0.03888485 0.04051346 0.03699341 0.03523338\n",
            " 0.03383475 0.02805247 0.02900993 0.03524746 0.03508788 0.03511604\n",
            " 0.03413512 0.04064487 0.04064487 0.04071997 0.03489545 0.03366109\n",
            " 0.0309483  0.0306667  0.0332997  0.02802901 0.02480464 0.02285687\n",
            " 0.0232652  0.01977331 0.01960435 0.01393941 0.01383146 0.00809612\n",
            " 0.00706357 0.00046934 0.00216366 0.00643935 0.00707765 0.\n",
            " 0.00260015 0.00105132 0.00232793 0.0054772  0.00504541 0.00709643\n",
            " 0.007256   0.00671157 0.01097787 0.00970596 0.00895032 0.0118837\n",
            " 0.01673198 0.01679769 0.01705113 0.0205153  0.0221179  0.0238205\n",
            " 0.02558403 0.02737503 0.0291721  0.03096411 0.03274643 0.03451779\n",
            " 0.03627824 0.03802811 0.03976763 0.04149684 0.04321564 0.04492386\n",
            " 0.04662138 0.04830813 0.04998413 0.05164959]\n",
            "19 day output [[0.05330477]]\n",
            "20 day input [0.07375683 0.06303241 0.06633656 0.06228616 0.06102832 0.05396006\n",
            " 0.05390843 0.05087649 0.0512238  0.05332645 0.04547439 0.05221411\n",
            " 0.05260836 0.05347664 0.04654918 0.04990965 0.04841246 0.05365264\n",
            " 0.05469692 0.05490813 0.05651796 0.05605801 0.05618943 0.0501631\n",
            " 0.05031798 0.04663835 0.0417619  0.03904912 0.03261446 0.0387769\n",
            " 0.04124094 0.03888485 0.04051346 0.03699341 0.03523338 0.03383475\n",
            " 0.02805247 0.02900993 0.03524746 0.03508788 0.03511604 0.03413512\n",
            " 0.04064487 0.04064487 0.04071997 0.03489545 0.03366109 0.0309483\n",
            " 0.0306667  0.0332997  0.02802901 0.02480464 0.02285687 0.0232652\n",
            " 0.01977331 0.01960435 0.01393941 0.01383146 0.00809612 0.00706357\n",
            " 0.00046934 0.00216366 0.00643935 0.00707765 0.         0.00260015\n",
            " 0.00105132 0.00232793 0.0054772  0.00504541 0.00709643 0.007256\n",
            " 0.00671157 0.01097787 0.00970596 0.00895032 0.0118837  0.01673198\n",
            " 0.01679769 0.01705113 0.0205153  0.0221179  0.0238205  0.02558403\n",
            " 0.02737503 0.0291721  0.03096411 0.03274643 0.03451779 0.03627824\n",
            " 0.03802811 0.03976763 0.04149684 0.04321564 0.04492386 0.04662138\n",
            " 0.04830813 0.04998413 0.05164959 0.05330477]\n",
            "20 day output [[0.05495008]]\n",
            "21 day input [0.06303241 0.06633656 0.06228616 0.06102832 0.05396006 0.05390843\n",
            " 0.05087649 0.0512238  0.05332645 0.04547439 0.05221411 0.05260836\n",
            " 0.05347664 0.04654918 0.04990965 0.04841246 0.05365264 0.05469692\n",
            " 0.05490813 0.05651796 0.05605801 0.05618943 0.0501631  0.05031798\n",
            " 0.04663835 0.0417619  0.03904912 0.03261446 0.0387769  0.04124094\n",
            " 0.03888485 0.04051346 0.03699341 0.03523338 0.03383475 0.02805247\n",
            " 0.02900993 0.03524746 0.03508788 0.03511604 0.03413512 0.04064487\n",
            " 0.04064487 0.04071997 0.03489545 0.03366109 0.0309483  0.0306667\n",
            " 0.0332997  0.02802901 0.02480464 0.02285687 0.0232652  0.01977331\n",
            " 0.01960435 0.01393941 0.01383146 0.00809612 0.00706357 0.00046934\n",
            " 0.00216366 0.00643935 0.00707765 0.         0.00260015 0.00105132\n",
            " 0.00232793 0.0054772  0.00504541 0.00709643 0.007256   0.00671157\n",
            " 0.01097787 0.00970596 0.00895032 0.0118837  0.01673198 0.01679769\n",
            " 0.01705113 0.0205153  0.0221179  0.0238205  0.02558403 0.02737503\n",
            " 0.0291721  0.03096411 0.03274643 0.03451779 0.03627824 0.03802811\n",
            " 0.03976763 0.04149684 0.04321564 0.04492386 0.04662138 0.04830813\n",
            " 0.04998413 0.05164959 0.05330477 0.05495008]\n",
            "21 day output [[0.056586]]\n",
            "22 day input [0.06633656 0.06228616 0.06102832 0.05396006 0.05390843 0.05087649\n",
            " 0.0512238  0.05332645 0.04547439 0.05221411 0.05260836 0.05347664\n",
            " 0.04654918 0.04990965 0.04841246 0.05365264 0.05469692 0.05490813\n",
            " 0.05651796 0.05605801 0.05618943 0.0501631  0.05031798 0.04663835\n",
            " 0.0417619  0.03904912 0.03261446 0.0387769  0.04124094 0.03888485\n",
            " 0.04051346 0.03699341 0.03523338 0.03383475 0.02805247 0.02900993\n",
            " 0.03524746 0.03508788 0.03511604 0.03413512 0.04064487 0.04064487\n",
            " 0.04071997 0.03489545 0.03366109 0.0309483  0.0306667  0.0332997\n",
            " 0.02802901 0.02480464 0.02285687 0.0232652  0.01977331 0.01960435\n",
            " 0.01393941 0.01383146 0.00809612 0.00706357 0.00046934 0.00216366\n",
            " 0.00643935 0.00707765 0.         0.00260015 0.00105132 0.00232793\n",
            " 0.0054772  0.00504541 0.00709643 0.007256   0.00671157 0.01097787\n",
            " 0.00970596 0.00895032 0.0118837  0.01673198 0.01679769 0.01705113\n",
            " 0.0205153  0.0221179  0.0238205  0.02558403 0.02737503 0.0291721\n",
            " 0.03096411 0.03274643 0.03451779 0.03627824 0.03802811 0.03976763\n",
            " 0.04149684 0.04321564 0.04492386 0.04662138 0.04830813 0.04998413\n",
            " 0.05164959 0.05330477 0.05495008 0.056586  ]\n",
            "22 day output [[0.05821314]]\n",
            "23 day input [0.06228616 0.06102832 0.05396006 0.05390843 0.05087649 0.0512238\n",
            " 0.05332645 0.04547439 0.05221411 0.05260836 0.05347664 0.04654918\n",
            " 0.04990965 0.04841246 0.05365264 0.05469692 0.05490813 0.05651796\n",
            " 0.05605801 0.05618943 0.0501631  0.05031798 0.04663835 0.0417619\n",
            " 0.03904912 0.03261446 0.0387769  0.04124094 0.03888485 0.04051346\n",
            " 0.03699341 0.03523338 0.03383475 0.02805247 0.02900993 0.03524746\n",
            " 0.03508788 0.03511604 0.03413512 0.04064487 0.04064487 0.04071997\n",
            " 0.03489545 0.03366109 0.0309483  0.0306667  0.0332997  0.02802901\n",
            " 0.02480464 0.02285687 0.0232652  0.01977331 0.01960435 0.01393941\n",
            " 0.01383146 0.00809612 0.00706357 0.00046934 0.00216366 0.00643935\n",
            " 0.00707765 0.         0.00260015 0.00105132 0.00232793 0.0054772\n",
            " 0.00504541 0.00709643 0.007256   0.00671157 0.01097787 0.00970596\n",
            " 0.00895032 0.0118837  0.01673198 0.01679769 0.01705113 0.0205153\n",
            " 0.0221179  0.0238205  0.02558403 0.02737503 0.0291721  0.03096411\n",
            " 0.03274643 0.03451779 0.03627824 0.03802811 0.03976763 0.04149684\n",
            " 0.04321564 0.04492386 0.04662138 0.04830813 0.04998413 0.05164959\n",
            " 0.05330477 0.05495008 0.056586   0.05821314]\n",
            "23 day output [[0.0598321]]\n",
            "24 day input [0.06102832 0.05396006 0.05390843 0.05087649 0.0512238  0.05332645\n",
            " 0.04547439 0.05221411 0.05260836 0.05347664 0.04654918 0.04990965\n",
            " 0.04841246 0.05365264 0.05469692 0.05490813 0.05651796 0.05605801\n",
            " 0.05618943 0.0501631  0.05031798 0.04663835 0.0417619  0.03904912\n",
            " 0.03261446 0.0387769  0.04124094 0.03888485 0.04051346 0.03699341\n",
            " 0.03523338 0.03383475 0.02805247 0.02900993 0.03524746 0.03508788\n",
            " 0.03511604 0.03413512 0.04064487 0.04064487 0.04071997 0.03489545\n",
            " 0.03366109 0.0309483  0.0306667  0.0332997  0.02802901 0.02480464\n",
            " 0.02285687 0.0232652  0.01977331 0.01960435 0.01393941 0.01383146\n",
            " 0.00809612 0.00706357 0.00046934 0.00216366 0.00643935 0.00707765\n",
            " 0.         0.00260015 0.00105132 0.00232793 0.0054772  0.00504541\n",
            " 0.00709643 0.007256   0.00671157 0.01097787 0.00970596 0.00895032\n",
            " 0.0118837  0.01673198 0.01679769 0.01705113 0.0205153  0.0221179\n",
            " 0.0238205  0.02558403 0.02737503 0.0291721  0.03096411 0.03274643\n",
            " 0.03451779 0.03627824 0.03802811 0.03976763 0.04149684 0.04321564\n",
            " 0.04492386 0.04662138 0.04830813 0.04998413 0.05164959 0.05330477\n",
            " 0.05495008 0.056586   0.05821314 0.0598321 ]\n",
            "24 day output [[0.06144354]]\n",
            "25 day input [0.05396006 0.05390843 0.05087649 0.0512238  0.05332645 0.04547439\n",
            " 0.05221411 0.05260836 0.05347664 0.04654918 0.04990965 0.04841246\n",
            " 0.05365264 0.05469692 0.05490813 0.05651796 0.05605801 0.05618943\n",
            " 0.0501631  0.05031798 0.04663835 0.0417619  0.03904912 0.03261446\n",
            " 0.0387769  0.04124094 0.03888485 0.04051346 0.03699341 0.03523338\n",
            " 0.03383475 0.02805247 0.02900993 0.03524746 0.03508788 0.03511604\n",
            " 0.03413512 0.04064487 0.04064487 0.04071997 0.03489545 0.03366109\n",
            " 0.0309483  0.0306667  0.0332997  0.02802901 0.02480464 0.02285687\n",
            " 0.0232652  0.01977331 0.01960435 0.01393941 0.01383146 0.00809612\n",
            " 0.00706357 0.00046934 0.00216366 0.00643935 0.00707765 0.\n",
            " 0.00260015 0.00105132 0.00232793 0.0054772  0.00504541 0.00709643\n",
            " 0.007256   0.00671157 0.01097787 0.00970596 0.00895032 0.0118837\n",
            " 0.01673198 0.01679769 0.01705113 0.0205153  0.0221179  0.0238205\n",
            " 0.02558403 0.02737503 0.0291721  0.03096411 0.03274643 0.03451779\n",
            " 0.03627824 0.03802811 0.03976763 0.04149684 0.04321564 0.04492386\n",
            " 0.04662138 0.04830813 0.04998413 0.05164959 0.05330477 0.05495008\n",
            " 0.056586   0.05821314 0.0598321  0.06144354]\n",
            "25 day output [[0.06304816]]\n",
            "26 day input [0.05390843 0.05087649 0.0512238  0.05332645 0.04547439 0.05221411\n",
            " 0.05260836 0.05347664 0.04654918 0.04990965 0.04841246 0.05365264\n",
            " 0.05469692 0.05490813 0.05651796 0.05605801 0.05618943 0.0501631\n",
            " 0.05031798 0.04663835 0.0417619  0.03904912 0.03261446 0.0387769\n",
            " 0.04124094 0.03888485 0.04051346 0.03699341 0.03523338 0.03383475\n",
            " 0.02805247 0.02900993 0.03524746 0.03508788 0.03511604 0.03413512\n",
            " 0.04064487 0.04064487 0.04071997 0.03489545 0.03366109 0.0309483\n",
            " 0.0306667  0.0332997  0.02802901 0.02480464 0.02285687 0.0232652\n",
            " 0.01977331 0.01960435 0.01393941 0.01383146 0.00809612 0.00706357\n",
            " 0.00046934 0.00216366 0.00643935 0.00707765 0.         0.00260015\n",
            " 0.00105132 0.00232793 0.0054772  0.00504541 0.00709643 0.007256\n",
            " 0.00671157 0.01097787 0.00970596 0.00895032 0.0118837  0.01673198\n",
            " 0.01679769 0.01705113 0.0205153  0.0221179  0.0238205  0.02558403\n",
            " 0.02737503 0.0291721  0.03096411 0.03274643 0.03451779 0.03627824\n",
            " 0.03802811 0.03976763 0.04149684 0.04321564 0.04492386 0.04662138\n",
            " 0.04830813 0.04998413 0.05164959 0.05330477 0.05495008 0.056586\n",
            " 0.05821314 0.0598321  0.06144354 0.06304816]\n",
            "26 day output [[0.06464665]]\n",
            "27 day input [0.05087649 0.0512238  0.05332645 0.04547439 0.05221411 0.05260836\n",
            " 0.05347664 0.04654918 0.04990965 0.04841246 0.05365264 0.05469692\n",
            " 0.05490813 0.05651796 0.05605801 0.05618943 0.0501631  0.05031798\n",
            " 0.04663835 0.0417619  0.03904912 0.03261446 0.0387769  0.04124094\n",
            " 0.03888485 0.04051346 0.03699341 0.03523338 0.03383475 0.02805247\n",
            " 0.02900993 0.03524746 0.03508788 0.03511604 0.03413512 0.04064487\n",
            " 0.04064487 0.04071997 0.03489545 0.03366109 0.0309483  0.0306667\n",
            " 0.0332997  0.02802901 0.02480464 0.02285687 0.0232652  0.01977331\n",
            " 0.01960435 0.01393941 0.01383146 0.00809612 0.00706357 0.00046934\n",
            " 0.00216366 0.00643935 0.00707765 0.         0.00260015 0.00105132\n",
            " 0.00232793 0.0054772  0.00504541 0.00709643 0.007256   0.00671157\n",
            " 0.01097787 0.00970596 0.00895032 0.0118837  0.01673198 0.01679769\n",
            " 0.01705113 0.0205153  0.0221179  0.0238205  0.02558403 0.02737503\n",
            " 0.0291721  0.03096411 0.03274643 0.03451779 0.03627824 0.03802811\n",
            " 0.03976763 0.04149684 0.04321564 0.04492386 0.04662138 0.04830813\n",
            " 0.04998413 0.05164959 0.05330477 0.05495008 0.056586   0.05821314\n",
            " 0.0598321  0.06144354 0.06304816 0.06464665]\n",
            "27 day output [[0.0662397]]\n",
            "28 day input [0.0512238  0.05332645 0.04547439 0.05221411 0.05260836 0.05347664\n",
            " 0.04654918 0.04990965 0.04841246 0.05365264 0.05469692 0.05490813\n",
            " 0.05651796 0.05605801 0.05618943 0.0501631  0.05031798 0.04663835\n",
            " 0.0417619  0.03904912 0.03261446 0.0387769  0.04124094 0.03888485\n",
            " 0.04051346 0.03699341 0.03523338 0.03383475 0.02805247 0.02900993\n",
            " 0.03524746 0.03508788 0.03511604 0.03413512 0.04064487 0.04064487\n",
            " 0.04071997 0.03489545 0.03366109 0.0309483  0.0306667  0.0332997\n",
            " 0.02802901 0.02480464 0.02285687 0.0232652  0.01977331 0.01960435\n",
            " 0.01393941 0.01383146 0.00809612 0.00706357 0.00046934 0.00216366\n",
            " 0.00643935 0.00707765 0.         0.00260015 0.00105132 0.00232793\n",
            " 0.0054772  0.00504541 0.00709643 0.007256   0.00671157 0.01097787\n",
            " 0.00970596 0.00895032 0.0118837  0.01673198 0.01679769 0.01705113\n",
            " 0.0205153  0.0221179  0.0238205  0.02558403 0.02737503 0.0291721\n",
            " 0.03096411 0.03274643 0.03451779 0.03627824 0.03802811 0.03976763\n",
            " 0.04149684 0.04321564 0.04492386 0.04662138 0.04830813 0.04998413\n",
            " 0.05164959 0.05330477 0.05495008 0.056586   0.05821314 0.0598321\n",
            " 0.06144354 0.06304816 0.06464665 0.0662397 ]\n",
            "28 day output [[0.06782797]]\n",
            "29 day input [0.05332645 0.04547439 0.05221411 0.05260836 0.05347664 0.04654918\n",
            " 0.04990965 0.04841246 0.05365264 0.05469692 0.05490813 0.05651796\n",
            " 0.05605801 0.05618943 0.0501631  0.05031798 0.04663835 0.0417619\n",
            " 0.03904912 0.03261446 0.0387769  0.04124094 0.03888485 0.04051346\n",
            " 0.03699341 0.03523338 0.03383475 0.02805247 0.02900993 0.03524746\n",
            " 0.03508788 0.03511604 0.03413512 0.04064487 0.04064487 0.04071997\n",
            " 0.03489545 0.03366109 0.0309483  0.0306667  0.0332997  0.02802901\n",
            " 0.02480464 0.02285687 0.0232652  0.01977331 0.01960435 0.01393941\n",
            " 0.01383146 0.00809612 0.00706357 0.00046934 0.00216366 0.00643935\n",
            " 0.00707765 0.         0.00260015 0.00105132 0.00232793 0.0054772\n",
            " 0.00504541 0.00709643 0.007256   0.00671157 0.01097787 0.00970596\n",
            " 0.00895032 0.0118837  0.01673198 0.01679769 0.01705113 0.0205153\n",
            " 0.0221179  0.0238205  0.02558403 0.02737503 0.0291721  0.03096411\n",
            " 0.03274643 0.03451779 0.03627824 0.03802811 0.03976763 0.04149684\n",
            " 0.04321564 0.04492386 0.04662138 0.04830813 0.04998413 0.05164959\n",
            " 0.05330477 0.05495008 0.056586   0.05821314 0.0598321  0.06144354\n",
            " 0.06304816 0.06464665 0.0662397  0.06782797]\n",
            "29 day output [[0.06941213]]\n",
            "[[0.02051529847085476], [0.022117897868156433], [0.02382049709558487], [0.025584030896425247], [0.027375031262636185], [0.029172101989388466], [0.030964113771915436], [0.03274643421173096], [0.0345177948474884], [0.036278240382671356], [0.038028109818696976], [0.03976763039827347], [0.041496843099594116], [0.043215636163949966], [0.04492386430501938], [0.04662138223648071], [0.048308126628398895], [0.04998413473367691], [0.05164959281682968], [0.0533047690987587], [0.054950080811977386], [0.05658600479364395], [0.058213137090206146], [0.059832096099853516], [0.06144353747367859], [0.06304816156625748], [0.0646466538310051], [0.06623969972133636], [0.067827969789505], [0.06941212713718414]]\n"
          ]
        }
      ]
    },
    {
      "cell_type": "code",
      "source": [
        "day_new=np.arange(1,101)\n",
        "day_pred=np.arange(101,131)"
      ],
      "metadata": {
        "id": "SXXB0sqkVJ7u"
      },
      "execution_count": null,
      "outputs": []
    },
    {
      "cell_type": "code",
      "source": [
        "import matplotlib.pyplot as plt"
      ],
      "metadata": {
        "id": "pt11jnEzVbro"
      },
      "execution_count": null,
      "outputs": []
    },
    {
      "cell_type": "code",
      "source": [
        "len(df1)"
      ],
      "metadata": {
        "colab": {
          "base_uri": "https://localhost:8080/"
        },
        "id": "BbsTkjbrVdxZ",
        "outputId": "787ec8cc-64f3-4f78-8845-53ae131294f3"
      },
      "execution_count": null,
      "outputs": [
        {
          "output_type": "execute_result",
          "data": {
            "text/plain": [
              "1257"
            ]
          },
          "metadata": {},
          "execution_count": 44
        }
      ]
    },
    {
      "cell_type": "code",
      "source": [
        " \n",
        "plt.plot(day_new,scaler.inverse_transform(df1[1157:]))\n",
        "plt.plot(day_pred,scaler.inverse_transform(lst_output))"
      ],
      "metadata": {
        "colab": {
          "base_uri": "https://localhost:8080/",
          "height": 282
        },
        "id": "J8P1oDATVhFe",
        "outputId": "2a03a29a-f394-44cf-f199-c8ddff3d5b33"
      },
      "execution_count": null,
      "outputs": [
        {
          "output_type": "execute_result",
          "data": {
            "text/plain": [
              "[<matplotlib.lines.Line2D at 0x7fb4054e8940>]"
            ]
          },
          "metadata": {},
          "execution_count": 45
        },
        {
          "output_type": "display_data",
          "data": {
            "text/plain": [
              "<Figure size 432x288 with 1 Axes>"
            ],
            "image/png": "[encoded data removed]"
          },
          "metadata": {
            "needs_background": "light"
          }
        }
      ]
    },
    {
      "cell_type": "code",
      "source": [
        "df3=df1.tolist()\n",
        "df3.extend(lst_output)\n",
        "plt.plot(df3[1100:])"
      ],
      "metadata": {
        "colab": {
          "base_uri": "https://localhost:8080/",
          "height": 284
        },
        "id": "1_hBnkxHVi37",
        "outputId": "42cce672-bb62-492c-ef0b-4400dd39a9ac"
      },
      "execution_count": null,
      "outputs": [
        {
          "output_type": "execute_result",
          "data": {
            "text/plain": [
              "[<matplotlib.lines.Line2D at 0x7fb4053b0910>]"
            ]
          },
          "metadata": {},
          "execution_count": 46
        },
        {
          "output_type": "display_data",
          "data": {
            "text/plain": [
              "<Figure size 432x288 with 1 Axes>"
            ],
            "image/png": "[encoded data removed]"
          },
          "metadata": {
            "needs_background": "light"
          }
        }
      ]
    },
    {
      "cell_type": "code",
      "source": [],
      "metadata": {
        "id": "uFNaSda0YaIy"
      },
      "execution_count": null,
      "outputs": []
    }
  ]
}